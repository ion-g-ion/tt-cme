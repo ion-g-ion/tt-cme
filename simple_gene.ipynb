{
 "cells": [
  {
   "cell_type": "code",
   "execution_count": null,
   "metadata": {},
   "outputs": [],
   "source": [
    "import torch as tn\n",
    "import torchtt as tntt\n",
    "import TTCME\n",
    "import matplotlib.pyplot as plt \n",
    "import scipy.integrate\n",
    "import numpy as np\n",
    "import datetime\n",
    "\n",
    "tn.set_default_tensor_type(tn.DoubleTensor)\n",
    "\n",
    "r1 = TTCME.ChemicalReaction(['mRNA','protein'],'mRNA->mRNA+protein', 0.015)\n",
    "r2 = TTCME.ChemicalReaction(['mRNA','protein'],'mRNA->', 0.002)\n",
    "r3 = TTCME.ChemicalReaction(['mRNA','protein'],'->mRNA', 0.1)\n",
    "r4 = TTCME.ChemicalReaction(['mRNA','protein'],'protein->', 0.01)\n",
    "\n",
    "rs = TTCME.ReactionSystem(['mRNA','protein'],[r1, r2, r3, r4])\n",
    "\n",
    "\n",
    "N = [80,120] \n",
    "\n",
    "Att = rs.generatorTT(N)\n",
    "\n",
    "integrator = TTCME.TimeIntegrator.TTInt(Att, N_max=16, dt_max = 100, method='legendre')\n",
    "\n",
    "p0 = TTCME.pdf.SingularPMF(N,[2,4])\n",
    "p = p0.copy()\n",
    "\n",
    "dt = 128 \n",
    "\n",
    "time = 0\n",
    "for i in range(8):\n",
    "    tme = datetime.datetime.now()\n",
    "    p.dofs = integrator.solve(p.dofs, dt, intervals = 1)\n",
    "    tme = datetime.datetime.now() - tme\n",
    "    time += dt\n",
    "    print('t = %g, solver time %g s'%(time,tme.total_seconds()))\n",
    "\n"
   ]
  },
  {
   "cell_type": "code",
   "execution_count": null,
   "metadata": {},
   "outputs": [],
   "source": [
    "Asp = rs.generator_sparse(N)\n",
    "\n",
    "res = scipy.integrate.solve_ivp(lambda t,y: Asp.dot(y), [0,time],p0.dofs.numpy().flatten(),max_step=time/10000)\n",
    "Pt = res.y.reshape(N+[-1])\n",
    "p_ref = Pt[:,:,-1]"
   ]
  },
  {
   "cell_type": "code",
   "execution_count": null,
   "metadata": {},
   "outputs": [],
   "source": [
    "plt.figure()\n",
    "plt.imshow(p.dofs.full(), origin='lower',cmap='gray_r')\n",
    "plt.colorbar()\n",
    "plt.xlabel(r'$x_1$')\n",
    "plt.ylabel(r'$x_2$')\n",
    "\n",
    "plt.figure()\n",
    "plt.imshow(p_ref, origin='lower',cmap='gray_r')\n",
    "plt.colorbar()\n",
    "plt.xlabel(r'$x_1$')\n",
    "plt.ylabel(r'$x_2$')\n",
    "\n",
    "plt.figure()\n",
    "plt.imshow(np.abs(p.dofs.numpy()-p_ref), origin='lower',cmap='gray_r')\n",
    "plt.colorbar()\n",
    "plt.xlabel(r'$x_1$')\n",
    "plt.ylabel(r'$x_2$')"
   ]
  }
 ],
 "metadata": {
  "interpreter": {
   "hash": "df6fc3a9b7a9c6f4b0308ab6eb361a4cabbf6b5db181383d07014ff4304e5cb3"
  },
  "kernelspec": {
   "display_name": "Python 3.9.7 ('pytorch')",
   "language": "python",
   "name": "python3"
  },
  "language_info": {
   "codemirror_mode": {
    "name": "ipython",
    "version": 3
   },
   "file_extension": ".py",
   "mimetype": "text/x-python",
   "name": "python",
   "nbconvert_exporter": "python",
   "pygments_lexer": "ipython3",
   "version": "3.9.7"
  },
  "orig_nbformat": 4
 },
 "nbformat": 4,
 "nbformat_minor": 2
}

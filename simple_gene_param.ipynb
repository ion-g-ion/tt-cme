{
 "cells": [
  {
   "cell_type": "code",
   "execution_count": 1,
   "metadata": {},
   "outputs": [],
   "source": [
    "import torch as tn\n",
    "import torchtt as tntt\n",
    "import TTCME\n",
    "import matplotlib.pyplot as plt \n",
    "import datetime\n",
    "import numpy as np\n",
    "import pickle \n",
    "import scipy.integrate\n",
    "\n",
    "tn.set_default_tensor_type(tn.DoubleTensor)\n",
    "qtt = True"
   ]
  },
  {
   "cell_type": "code",
   "execution_count": 2,
   "metadata": {},
   "outputs": [],
   "source": [
    "r1m = TTCME.ChemicalReaction(['mRNA','protein'],'mRNA->mRNA+protein', 'c1', params = ['c1'])\n",
    "r2m = TTCME.ChemicalReaction(['mRNA','protein'],'mRNA->', 'c2', params = ['c2'])\n",
    "r3m = TTCME.ChemicalReaction(['mRNA','protein'],'->mRNA', 'c3', params = ['c3'])\n",
    "r4m = TTCME.ChemicalReaction(['mRNA','protein'],'protein->', 'c4', params = ['c4'])\n",
    "\n",
    "mdl = TTCME.ReactionSystem(['mRNA','protein'],[r1m, r2m, r3m, r4m], params= ['c1','c2','c3','c4'])\n",
    "\n",
    "rates = np.array([0.002,0.015,0.1,0.01])\n",
    "IC = [2,4]\n",
    "N = [64,64]"
   ]
  },
  {
   "cell_type": "code",
   "execution_count": 3,
   "metadata": {},
   "outputs": [],
   "source": [
    "Nl = 64\n",
    "mult = 2\n",
    "param_range = [[0,rc*mult] for rc in rates]\n",
    "basis_param = [TTCME.basis.BSplineBasis(Nl,[p[0],p[1]],deg = 2) for p in param_range]"
   ]
  },
  {
   "cell_type": "code",
   "execution_count": null,
   "metadata": {},
   "outputs": [],
   "source": []
  },
  {
   "cell_type": "code",
   "execution_count": 4,
   "metadata": {},
   "outputs": [
    {
     "name": "stdout",
     "output_type": "stream",
     "text": [
      "Probability density function:\n",
      "p(mRNA,protein,c1,c2,c3,c4)\n",
      "\n",
      "Basis:\n",
      "<TTCME.basis.DiracDeltaBase object at 0x7fa987317460>\n",
      "<TTCME.basis.DiracDeltaBase object at 0x7fa986f1c490>\n",
      "<TTCME.basis.BSplineBasis object at 0x7fa986f1cd30>\n",
      "<TTCME.basis.BSplineBasis object at 0x7fa986f1cdc0>\n",
      "<TTCME.basis.BSplineBasis object at 0x7fa987671ee0>\n",
      "<TTCME.basis.BSplineBasis object at 0x7fa987426c40>\n",
      "\n",
      "DoF:\n",
      "TT with sizes and ranks:\n",
      "N = [64, 64, 64, 64, 64, 64]\n",
      "R = [1, 1, 1, 1, 1, 1, 1]\n",
      "\n",
      "Device: cpu, dtype: torch.float64\n",
      "#entries 384 compression 5.587935447692871e-09\n",
      "\n"
     ]
    }
   ],
   "source": [
    "p_ic = TTCME.pdf.SingularPMF(N,IC,['mRNA','protein'])\n",
    "p = p_ic ** TTCME.pdf.UniformPDF(basis_param,['c1','c2','c3','c4'])\n",
    "p0 = p.copy()\n",
    "print(p0)"
   ]
  },
  {
   "cell_type": "code",
   "execution_count": 5,
   "metadata": {},
   "outputs": [],
   "source": [
    "Stt, Mtt, Mtt_inv = mdl.generator_tt_galerkin(N, basis_param)\n",
    "Att = Mtt_inv @ Stt\n"
   ]
  },
  {
   "cell_type": "code",
   "execution_count": 6,
   "metadata": {},
   "outputs": [],
   "source": [
    "if qtt:\n",
    "    Norig = Att.N\n",
    "    A_qtt = Att.to_qtt()\n",
    "    fwd_int = TTCME.TimeIntegrator.TTInt(A_qtt, epsilon = 1e-5, N_max = 8, dt_max = 1.0,method='cheby')\n",
    "    pk = p0.dofs.to_qtt()\n",
    "else:\n",
    "    fwd_int = TTCME.TimeIntegrator.TTInt(Att, epsilon = 1e-5, N_max = 64, dt_max = 1.0,method='crank–nicolson')\n",
    "    pk = p0.dofs.clone()"
   ]
  },
  {
   "cell_type": "code",
   "execution_count": 7,
   "metadata": {},
   "outputs": [
    {
     "name": "stdout",
     "output_type": "stream",
     "text": [
      "Interval  1  done\n",
      "Interval  2  done\n",
      "Interval  3  done\n",
      "Interval  4  done\n",
      "Interval  5  done\n",
      "Interval  6  done\n",
      "Interval  7  done\n",
      "Interval  8  done\n",
      "Interval  9  done\n",
      "Interval  10  done\n",
      "Interval  11  done\n",
      "Interval  12  done\n",
      "Interval  13  done\n",
      "Interval  14  done\n",
      "Interval  15  done\n",
      "Interval  16  done\n",
      "Interval  17  done\n",
      "Interval  18  done\n",
      "Interval  19  done\n",
      "Interval  20  done\n",
      "Interval  21  done\n",
      "Interval  22  done\n",
      "Interval  23  done\n",
      "Interval  24  done\n",
      "Interval  25  done\n",
      "Interval  26  done\n",
      "Interval  27  done\n",
      "Interval  28  done\n",
      "Interval  29  done\n",
      "Interval  30  done\n",
      "Interval  31  done\n",
      "Interval  32  done\n"
     ]
    }
   ],
   "source": [
    "dt = 8\n",
    "Nt = 32\n",
    "time = Nt*dt\n",
    "for k in range(Nt):\n",
    "    \n",
    "    pk = fwd_int.solve(pk, dt, intervals = 2,qtt = qtt,verb = False, rounding=True)\n",
    "    p.dofs = tntt.reshape(pk, Norig) if qtt else pk.clone()\n",
    "    \n",
    "    print('Interval ',k+1,' done')"
   ]
  },
  {
   "cell_type": "code",
   "execution_count": 8,
   "metadata": {},
   "outputs": [],
   "source": [
    "Asp = mdl.generator_sparse(N, rates)\n",
    "\n",
    "res = scipy.integrate.solve_ivp(lambda t,y: Asp.dot(y), [0,time],p_ic.dofs.numpy().flatten(),max_step=time/10000)\n",
    "Pt = res.y.reshape(N+[-1])\n",
    "p_ref = Pt[:,:,-1]"
   ]
  },
  {
   "cell_type": "code",
   "execution_count": 9,
   "metadata": {},
   "outputs": [
    {
     "data": {
      "text/plain": [
       "Text(0, 0.5, '$x_2$')"
      ]
     },
     "execution_count": 9,
     "metadata": {},
     "output_type": "execute_result"
    },
    {
     "data": {
      "image/png": "[encoded data removed]",
      "text/plain": [
       "<Figure size 432x288 with 2 Axes>"
      ]
     },
     "metadata": {
      "needs_background": "light"
     },
     "output_type": "display_data"
    },
    {
     "data": {
      "image/png": "[encoded data removed]",
      "text/plain": [
       "<Figure size 432x288 with 2 Axes>"
      ]
     },
     "metadata": {
      "needs_background": "light"
     },
     "output_type": "display_data"
    },
    {
     "data": {
      "image/png": "[encoded data removed]",
      "text/plain": [
       "<Figure size 432x288 with 2 Axes>"
      ]
     },
     "metadata": {
      "needs_background": "light"
     },
     "output_type": "display_data"
    }
   ],
   "source": [
    "pend = p[np.arange(N[0]), np.arange(N[1]), rates[0], rates[1], rates[2], rates[3]]\n",
    "pend = pend / pend.sum()\n",
    "pend = pend.numpy().squeeze()\n",
    "\n",
    "plt.figure()\n",
    "plt.imshow(pend, origin='lower',cmap='gray_r')\n",
    "plt.colorbar()\n",
    "plt.xlabel(r'$x_1$')\n",
    "plt.ylabel(r'$x_2$')\n",
    "\n",
    "plt.figure()\n",
    "plt.imshow(p_ref, origin='lower',cmap='gray_r')\n",
    "plt.colorbar()\n",
    "plt.xlabel(r'$x_1$')\n",
    "plt.ylabel(r'$x_2$')\n",
    "\n",
    "plt.figure()\n",
    "plt.imshow(np.abs(pend-p_ref), origin='lower',cmap='gray_r')\n",
    "plt.colorbar()\n",
    "plt.xlabel(r'$x_1$')\n",
    "plt.ylabel(r'$x_2$')"
   ]
  }
 ],
 "metadata": {
  "kernelspec": {
   "display_name": "Python 3.9.7 ('pytorch')",
   "language": "python",
   "name": "python3"
  },
  "language_info": {
   "codemirror_mode": {
    "name": "ipython",
    "version": 3
   },
   "file_extension": ".py",
   "mimetype": "text/x-python",
   "name": "python",
   "nbconvert_exporter": "python",
   "pygments_lexer": "ipython3",
   "version": "3.9.7"
  },
  "orig_nbformat": 4,
  "vscode": {
   "interpreter": {
    "hash": "df6fc3a9b7a9c6f4b0308ab6eb361a4cabbf6b5db181383d07014ff4304e5cb3"
   }
  }
 },
 "nbformat": 4,
 "nbformat_minor": 2
}

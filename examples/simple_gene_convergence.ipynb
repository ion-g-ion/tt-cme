{
 "cells": [
  {
   "cell_type": "code",
   "execution_count": 1,
   "metadata": {},
   "outputs": [],
   "source": [
    "import torch as tn\n",
    "import torchtt as tntt\n",
    "import TTCME\n",
    "import matplotlib.pyplot as plt \n",
    "import scipy.integrate\n",
    "import numpy as np\n",
    "import datetime\n",
    "\n",
    "tn.set_default_tensor_type(tn.DoubleTensor)"
   ]
  },
  {
   "cell_type": "code",
   "execution_count": 2,
   "metadata": {},
   "outputs": [],
   "source": [
    "r1 = TTCME.ChemicalReaction(['mRNA','protein'],'mRNA->mRNA+protein', 0.015)\n",
    "r2 = TTCME.ChemicalReaction(['mRNA','protein'],'mRNA->', 0.002)\n",
    "r3 = TTCME.ChemicalReaction(['mRNA','protein'],'->mRNA', 0.1)\n",
    "r4 = TTCME.ChemicalReaction(['mRNA','protein'],'protein->', 0.01)\n",
    "\n",
    "rs = TTCME.ReactionSystem(['mRNA','protein'],[r1, r2, r3, r4])\n",
    "\n",
    "N = [80,120] \n",
    "\n",
    "Att = rs.generatorTT(N)\n",
    "\n",
    "p0 = TTCME.pdf.SingularPMF(N,[2,4])\n",
    "\n",
    "Nt = 8\n",
    "dT = 128"
   ]
  },
  {
   "cell_type": "code",
   "execution_count": 3,
   "metadata": {},
   "outputs": [],
   "source": [
    "Asp = rs.generator_sparse(N)\n",
    "\n",
    "res = scipy.integrate.solve_ivp(lambda t,y: Asp.dot(y), [0,dT*Nt],p0.dofs.numpy().flatten(),max_step=dT/10000)\n",
    "Pt = res.y.reshape(N+[-1])\n",
    "p_ref = Pt[:,:,-1]"
   ]
  },
  {
   "cell_type": "code",
   "execution_count": 4,
   "metadata": {},
   "outputs": [
    {
     "name": "stdout",
     "output_type": "stream",
     "text": [
      "Implicit Euler...\n",
      "nt  16  error inf  0.019627063123447894\n",
      "nt  32  error inf  0.009900226272254842\n",
      "nt  64  error inf  0.004970279641294143\n",
      "nt  128  error inf  0.0024898341568327714\n",
      "nt  256  error inf  0.001246546336222805\n",
      "nt  512  error inf  0.0006237325361299042\n"
     ]
    }
   ],
   "source": [
    "\n",
    "print('Implicit Euler...')\n",
    "err_implicit = []\n",
    "refinements_implicit = [16,32,64,128,256,512]\n",
    "\n",
    "for nt in refinements_implicit:\n",
    "    integrator = TTCME.TimeIntegrator.TTInt(Att, N_max=nt, epsilon = 1e-9, dt_max = 100, method='implicit-euler')\n",
    "\n",
    "    p = p0.copy()\n",
    "    for i in range(Nt):\n",
    "        p.dofs = integrator.solve(p.dofs, dT, intervals = 1)\n",
    "        \n",
    "    err = np.max(np.abs(p.dofs.numpy()-p_ref)) / np.max(np.abs(p_ref))\n",
    "    err_implicit.append(err)\n",
    "    print('nt ',nt,' error inf ',err)"
   ]
  },
  {
   "cell_type": "code",
   "execution_count": 5,
   "metadata": {},
   "outputs": [
    {
     "name": "stdout",
     "output_type": "stream",
     "text": [
      "Crank Nicolson...\n",
      "nt  16  error inf  0.00018992100475586157\n",
      "nt  32  error inf  4.443183395997286e-05\n",
      "nt  64  error inf  1.0756222728666026e-05\n",
      "nt  128  error inf  2.646697657542131e-06\n",
      "nt  256  error inf  6.564063402092687e-07\n",
      "nt  512  error inf  1.6228106978344783e-07\n"
     ]
    }
   ],
   "source": [
    "\n",
    "print('Crank Nicolson...')\n",
    "err_cn = []\n",
    "refinements_cn = [16,32,64,128,256,512]\n",
    "\n",
    "for nt in refinements_cn:\n",
    "    integrator = TTCME.TimeIntegrator.TTInt(Att, N_max=nt, epsilon = 1e-11, dt_max = 100, method='crank–nicolson')\n",
    "\n",
    "    p = p0.copy()\n",
    "    for i in range(Nt):\n",
    "        p.dofs = integrator.solve(p.dofs, dT, intervals = 1)\n",
    "        \n",
    "    err = np.max(np.abs(p.dofs.numpy()-p_ref)) / np.max(np.abs(p_ref))\n",
    "    err_cn.append(err)\n",
    "    print('nt ',nt,' error inf ',err)"
   ]
  },
  {
   "cell_type": "code",
   "execution_count": 6,
   "metadata": {},
   "outputs": [
    {
     "name": "stdout",
     "output_type": "stream",
     "text": [
      "Cheby...\n",
      "nt  2  error inf  0.006089530433511648\n",
      "nt  6  error inf  7.520282605165915e-11\n"
     ]
    },
    {
     "ename": "_LinAlgError",
     "evalue": "linalg.svd: The algorithm failed to converge because the input matrix is ill-conditioned or has too many repeated singular values (error code: 7).",
     "output_type": "error",
     "traceback": [
      "\u001b[0;31m---------------------------------------------------------------------------\u001b[0m",
      "\u001b[0;31mAttributeError\u001b[0m                            Traceback (most recent call last)",
      "\u001b[0;32m~/Repos/tt-cme/TTCME/TimeIntegrator.py\u001b[0m in \u001b[0;36msolve\u001b[0;34m(self, initial_tt, T, intervals, return_all, nswp, qtt, verb, rounding)\u001b[0m\n\u001b[1;32m     86\u001b[0m                     \u001b[0;31m# tme = datetime.datetime.now()\u001b[0m\u001b[0;34m\u001b[0m\u001b[0;34m\u001b[0m\u001b[0m\n\u001b[0;32m---> 87\u001b[0;31m                     \u001b[0mxs_tt\u001b[0m \u001b[0;34m=\u001b[0m \u001b[0mtntt\u001b[0m\u001b[0;34m.\u001b[0m\u001b[0msolvers\u001b[0m\u001b[0;34m.\u001b[0m\u001b[0mamen_solve\u001b[0m\u001b[0;34m(\u001b[0m\u001b[0mB_tt\u001b[0m\u001b[0;34m,\u001b[0m \u001b[0mf_tt\u001b[0m\u001b[0;34m,\u001b[0m \u001b[0mx0\u001b[0m \u001b[0;34m=\u001b[0m \u001b[0mself\u001b[0m\u001b[0;34m.\u001b[0m\u001b[0mxs_tt\u001b[0m\u001b[0;34m,\u001b[0m \u001b[0meps\u001b[0m \u001b[0;34m=\u001b[0m \u001b[0mself\u001b[0m\u001b[0;34m.\u001b[0m\u001b[0m__epsilon\u001b[0m\u001b[0;34m,\u001b[0m \u001b[0mverbose\u001b[0m \u001b[0;34m=\u001b[0m \u001b[0mverb\u001b[0m\u001b[0;34m,\u001b[0m \u001b[0mnswp\u001b[0m \u001b[0;34m=\u001b[0m \u001b[0mnswp\u001b[0m\u001b[0;34m,\u001b[0m \u001b[0mkickrank\u001b[0m \u001b[0;34m=\u001b[0m \u001b[0;36m8\u001b[0m\u001b[0;34m,\u001b[0m \u001b[0mrmax\u001b[0m \u001b[0;34m=\u001b[0m \u001b[0;36m2000\u001b[0m\u001b[0;34m,\u001b[0m \u001b[0mpreconditioner\u001b[0m\u001b[0;34m=\u001b[0m\u001b[0;32mNone\u001b[0m \u001b[0;34m)\u001b[0m\u001b[0;34m\u001b[0m\u001b[0;34m\u001b[0m\u001b[0m\n\u001b[0m\u001b[1;32m     88\u001b[0m                     \u001b[0;31m# tme = datetime.datetime.now() - tme\u001b[0m\u001b[0;34m\u001b[0m\u001b[0;34m\u001b[0m\u001b[0m\n",
      "\u001b[0;31mAttributeError\u001b[0m: 'TTInt' object has no attribute 'xs_tt'",
      "\nDuring handling of the above exception, another exception occurred:\n",
      "\u001b[0;31m_LinAlgError\u001b[0m                              Traceback (most recent call last)",
      "\u001b[0;32m/tmp/ipykernel_1235035/4168437676.py\u001b[0m in \u001b[0;36m<module>\u001b[0;34m\u001b[0m\n\u001b[1;32m      8\u001b[0m     \u001b[0mp\u001b[0m \u001b[0;34m=\u001b[0m \u001b[0mp0\u001b[0m\u001b[0;34m.\u001b[0m\u001b[0mcopy\u001b[0m\u001b[0;34m(\u001b[0m\u001b[0;34m)\u001b[0m\u001b[0;34m\u001b[0m\u001b[0;34m\u001b[0m\u001b[0m\n\u001b[1;32m      9\u001b[0m     \u001b[0;32mfor\u001b[0m \u001b[0mi\u001b[0m \u001b[0;32min\u001b[0m \u001b[0mrange\u001b[0m\u001b[0;34m(\u001b[0m\u001b[0mNt\u001b[0m\u001b[0;34m)\u001b[0m\u001b[0;34m:\u001b[0m\u001b[0;34m\u001b[0m\u001b[0;34m\u001b[0m\u001b[0m\n\u001b[0;32m---> 10\u001b[0;31m         \u001b[0mp\u001b[0m\u001b[0;34m.\u001b[0m\u001b[0mdofs\u001b[0m \u001b[0;34m=\u001b[0m \u001b[0mintegrator\u001b[0m\u001b[0;34m.\u001b[0m\u001b[0msolve\u001b[0m\u001b[0;34m(\u001b[0m\u001b[0mp\u001b[0m\u001b[0;34m.\u001b[0m\u001b[0mdofs\u001b[0m\u001b[0;34m,\u001b[0m \u001b[0mdT\u001b[0m\u001b[0;34m,\u001b[0m \u001b[0mintervals\u001b[0m \u001b[0;34m=\u001b[0m \u001b[0;36m1\u001b[0m\u001b[0;34m)\u001b[0m\u001b[0;34m\u001b[0m\u001b[0;34m\u001b[0m\u001b[0m\n\u001b[0m\u001b[1;32m     11\u001b[0m \u001b[0;34m\u001b[0m\u001b[0m\n\u001b[1;32m     12\u001b[0m     \u001b[0merr\u001b[0m \u001b[0;34m=\u001b[0m \u001b[0mnp\u001b[0m\u001b[0;34m.\u001b[0m\u001b[0mmax\u001b[0m\u001b[0;34m(\u001b[0m\u001b[0mnp\u001b[0m\u001b[0;34m.\u001b[0m\u001b[0mabs\u001b[0m\u001b[0;34m(\u001b[0m\u001b[0mp\u001b[0m\u001b[0;34m.\u001b[0m\u001b[0mdofs\u001b[0m\u001b[0;34m.\u001b[0m\u001b[0mnumpy\u001b[0m\u001b[0;34m(\u001b[0m\u001b[0;34m)\u001b[0m\u001b[0;34m-\u001b[0m\u001b[0mp_ref\u001b[0m\u001b[0;34m)\u001b[0m\u001b[0;34m)\u001b[0m \u001b[0;34m/\u001b[0m \u001b[0mnp\u001b[0m\u001b[0;34m.\u001b[0m\u001b[0mmax\u001b[0m\u001b[0;34m(\u001b[0m\u001b[0mnp\u001b[0m\u001b[0;34m.\u001b[0m\u001b[0mabs\u001b[0m\u001b[0;34m(\u001b[0m\u001b[0mp_ref\u001b[0m\u001b[0;34m)\u001b[0m\u001b[0;34m)\u001b[0m\u001b[0;34m\u001b[0m\u001b[0;34m\u001b[0m\u001b[0m\n",
      "\u001b[0;32m~/Repos/tt-cme/TTCME/TimeIntegrator.py\u001b[0m in \u001b[0;36msolve\u001b[0;34m(self, initial_tt, T, intervals, return_all, nswp, qtt, verb, rounding)\u001b[0m\n\u001b[1;32m     92\u001b[0m                 \u001b[0;32mexcept\u001b[0m\u001b[0;34m:\u001b[0m\u001b[0;34m\u001b[0m\u001b[0;34m\u001b[0m\u001b[0m\n\u001b[1;32m     93\u001b[0m                     \u001b[0;31m# tme = datetime.datetime.now()\u001b[0m\u001b[0;34m\u001b[0m\u001b[0;34m\u001b[0m\u001b[0m\n\u001b[0;32m---> 94\u001b[0;31m                     \u001b[0mxs_tt\u001b[0m \u001b[0;34m=\u001b[0m \u001b[0mtntt\u001b[0m\u001b[0;34m.\u001b[0m\u001b[0msolvers\u001b[0m\u001b[0;34m.\u001b[0m\u001b[0mamen_solve\u001b[0m\u001b[0;34m(\u001b[0m\u001b[0mB_tt\u001b[0m\u001b[0;34m,\u001b[0m \u001b[0mf_tt\u001b[0m\u001b[0;34m,\u001b[0m \u001b[0meps\u001b[0m \u001b[0;34m=\u001b[0m \u001b[0mself\u001b[0m\u001b[0;34m.\u001b[0m\u001b[0m__epsilon\u001b[0m\u001b[0;34m,\u001b[0m \u001b[0mverbose\u001b[0m \u001b[0;34m=\u001b[0m \u001b[0mverb\u001b[0m\u001b[0;34m,\u001b[0m \u001b[0mnswp\u001b[0m \u001b[0;34m=\u001b[0m \u001b[0mnswp\u001b[0m\u001b[0;34m,\u001b[0m \u001b[0mkickrank\u001b[0m \u001b[0;34m=\u001b[0m \u001b[0;36m8\u001b[0m\u001b[0;34m,\u001b[0m \u001b[0mrmax\u001b[0m\u001b[0;34m=\u001b[0m\u001b[0;36m2000\u001b[0m\u001b[0;34m,\u001b[0m \u001b[0mpreconditioner\u001b[0m\u001b[0;34m=\u001b[0m\u001b[0;32mNone\u001b[0m \u001b[0;34m)\u001b[0m\u001b[0;34m\u001b[0m\u001b[0;34m\u001b[0m\u001b[0m\n\u001b[0m\u001b[1;32m     95\u001b[0m                     \u001b[0;31m# tme = datetime.datetime.now() - tme\u001b[0m\u001b[0;34m\u001b[0m\u001b[0;34m\u001b[0m\u001b[0m\n\u001b[1;32m     96\u001b[0m                     \u001b[0;31m# print(tme)\u001b[0m\u001b[0;34m\u001b[0m\u001b[0;34m\u001b[0m\u001b[0m\n",
      "\u001b[0;32m~/anaconda3/envs/pytorch/lib/python3.9/site-packages/torchtt/solvers.py\u001b[0m in \u001b[0;36mamen_solve\u001b[0;34m(A, b, nswp, x0, eps, rmax, max_full, kickrank, kick2, trunc_norm, local_solver, local_iterations, resets, verbose, preconditioner)\u001b[0m\n\u001b[1;32m    401\u001b[0m                 \u001b[0;31m# print('rx',rx)\u001b[0m\u001b[0;34m\u001b[0m\u001b[0;34m\u001b[0m\u001b[0m\n\u001b[1;32m    402\u001b[0m \u001b[0;34m\u001b[0m\u001b[0m\n\u001b[0;32m--> 403\u001b[0;31m                 \u001b[0muz\u001b[0m\u001b[0;34m,\u001b[0m\u001b[0m_\u001b[0m\u001b[0;34m,\u001b[0m\u001b[0m_\u001b[0m \u001b[0;34m=\u001b[0m \u001b[0mSVD\u001b[0m\u001b[0;34m(\u001b[0m\u001b[0mtn\u001b[0m\u001b[0;34m.\u001b[0m\u001b[0mreshape\u001b[0m\u001b[0;34m(\u001b[0m\u001b[0mcz_new\u001b[0m\u001b[0;34m,\u001b[0m \u001b[0;34m[\u001b[0m\u001b[0mrz\u001b[0m\u001b[0;34m[\u001b[0m\u001b[0mk\u001b[0m\u001b[0;34m]\u001b[0m\u001b[0;34m*\u001b[0m\u001b[0mN\u001b[0m\u001b[0;34m[\u001b[0m\u001b[0mk\u001b[0m\u001b[0;34m]\u001b[0m\u001b[0;34m,\u001b[0m\u001b[0mrz\u001b[0m\u001b[0;34m[\u001b[0m\u001b[0mk\u001b[0m\u001b[0;34m+\u001b[0m\u001b[0;36m1\u001b[0m\u001b[0;34m]\u001b[0m\u001b[0;34m]\u001b[0m\u001b[0;34m)\u001b[0m\u001b[0;34m)\u001b[0m\u001b[0;34m\u001b[0m\u001b[0;34m\u001b[0m\u001b[0m\n\u001b[0m\u001b[1;32m    404\u001b[0m                 \u001b[0mcz_new\u001b[0m \u001b[0;34m=\u001b[0m \u001b[0muz\u001b[0m\u001b[0;34m[\u001b[0m\u001b[0;34m:\u001b[0m\u001b[0;34m,\u001b[0m\u001b[0;34m:\u001b[0m\u001b[0mmin\u001b[0m\u001b[0;34m(\u001b[0m\u001b[0mkickrank\u001b[0m\u001b[0;34m,\u001b[0m\u001b[0muz\u001b[0m\u001b[0;34m.\u001b[0m\u001b[0mshape\u001b[0m\u001b[0;34m[\u001b[0m\u001b[0;36m1\u001b[0m\u001b[0;34m]\u001b[0m\u001b[0;34m)\u001b[0m\u001b[0;34m]\u001b[0m \u001b[0;31m# truncate to kickrank\u001b[0m\u001b[0;34m\u001b[0m\u001b[0;34m\u001b[0m\u001b[0m\n\u001b[1;32m    405\u001b[0m                 \u001b[0;32mif\u001b[0m \u001b[0mk\u001b[0m \u001b[0;34m<\u001b[0m \u001b[0md\u001b[0m\u001b[0;34m-\u001b[0m\u001b[0;36m1\u001b[0m\u001b[0;34m:\u001b[0m \u001b[0;31m# extend cz_new with random elements\u001b[0m\u001b[0;34m\u001b[0m\u001b[0;34m\u001b[0m\u001b[0m\n",
      "\u001b[0;32m~/anaconda3/envs/pytorch/lib/python3.9/site-packages/torchtt/_decomposition.py\u001b[0m in \u001b[0;36mSVD\u001b[0;34m(mat)\u001b[0m\n\u001b[1;32m     49\u001b[0m         \u001b[0;32mreturn\u001b[0m \u001b[0mu\u001b[0m\u001b[0;34m,\u001b[0m \u001b[0ms\u001b[0m\u001b[0;34m,\u001b[0m \u001b[0mv\u001b[0m\u001b[0;34m\u001b[0m\u001b[0;34m\u001b[0m\u001b[0m\n\u001b[1;32m     50\u001b[0m     \u001b[0;32melse\u001b[0m\u001b[0;34m:\u001b[0m\u001b[0;34m\u001b[0m\u001b[0;34m\u001b[0m\u001b[0m\n\u001b[0;32m---> 51\u001b[0;31m         \u001b[0mu\u001b[0m\u001b[0;34m,\u001b[0m \u001b[0ms\u001b[0m\u001b[0;34m,\u001b[0m \u001b[0mv\u001b[0m \u001b[0;34m=\u001b[0m \u001b[0mtn\u001b[0m\u001b[0;34m.\u001b[0m\u001b[0mlinalg\u001b[0m\u001b[0;34m.\u001b[0m\u001b[0msvd\u001b[0m\u001b[0;34m(\u001b[0m\u001b[0mmat\u001b[0m\u001b[0;34m.\u001b[0m\u001b[0mt\u001b[0m\u001b[0;34m(\u001b[0m\u001b[0;34m)\u001b[0m\u001b[0;34m,\u001b[0m\u001b[0mfull_matrices\u001b[0m\u001b[0;34m=\u001b[0m\u001b[0;32mFalse\u001b[0m\u001b[0;34m)\u001b[0m\u001b[0;34m\u001b[0m\u001b[0;34m\u001b[0m\u001b[0m\n\u001b[0m\u001b[1;32m     52\u001b[0m         \u001b[0;32mreturn\u001b[0m  \u001b[0mv\u001b[0m\u001b[0;34m.\u001b[0m\u001b[0mt\u001b[0m\u001b[0;34m(\u001b[0m\u001b[0;34m)\u001b[0m\u001b[0;34m,\u001b[0m \u001b[0ms\u001b[0m\u001b[0;34m,\u001b[0m \u001b[0mu\u001b[0m\u001b[0;34m.\u001b[0m\u001b[0mt\u001b[0m\u001b[0;34m(\u001b[0m\u001b[0;34m)\u001b[0m\u001b[0;34m\u001b[0m\u001b[0;34m\u001b[0m\u001b[0m\n\u001b[1;32m     53\u001b[0m \u001b[0;34m\u001b[0m\u001b[0m\n",
      "\u001b[0;31m_LinAlgError\u001b[0m: linalg.svd: The algorithm failed to converge because the input matrix is ill-conditioned or has too many repeated singular values (error code: 7)."
     ]
    }
   ],
   "source": [
    "\n",
    "print('Cheby...')\n",
    "err_ch = []\n",
    "refinements_ch = [2,6,8,10,12,14,16,18,20,22,24,28,32]\n",
    "\n",
    "for nt in refinements_ch:\n",
    "    integrator = TTCME.TimeIntegrator.TTInt(Att, N_max=nt, epsilon = 1e-14, dt_max = 100, method='cheby')\n",
    "\n",
    "    p = p0.copy()\n",
    "    for i in range(Nt):\n",
    "        p.dofs = integrator.solve(p.dofs, dT, intervals = 1)\n",
    "        \n",
    "    err = np.max(np.abs(p.dofs.numpy()-p_ref)) / np.max(np.abs(p_ref))\n",
    "    err_ch.append(err)\n",
    "    print('nt ',nt,' error inf ',err)"
   ]
  },
  {
   "cell_type": "code",
   "execution_count": null,
   "metadata": {},
   "outputs": [],
   "source": [
    "print('Legendre...')\n",
    "err_le = []\n",
    "refinements_le = [2,6,8,10,12,14,16,18,20,22,24,28,32]\n",
    "\n",
    "for nt in refinements_le:\n",
    "    integrator = TTCME.TimeIntegrator.TTInt(Att, N_max=nt, epsilon = 1e-14, dt_max = 100, method='legendre')\n",
    "\n",
    "    p = p0.copy()\n",
    "    for i in range(Nt):\n",
    "        p.dofs = integrator.solve(p.dofs, dT, intervals = 1)\n",
    "        \n",
    "    err = np.max(np.abs(p.dofs.numpy()-p_ref)) / np.max(np.abs(p_ref))\n",
    "    err_le.append(err)\n",
    "    print('nt ',nt,' error inf ',err)"
   ]
  },
  {
   "cell_type": "code",
   "execution_count": null,
   "metadata": {},
   "outputs": [],
   "source": [
    "plt.figure()\n",
    "plt.loglog(refinements_implicit,err_implicit)\n",
    "plt.loglog(refinements_cn[:-1],err_cn[:-1])\n",
    "plt.loglog(refinements_ch[:],err_ch[:])\n",
    "# plt.loglog(refinements_le[:],err_le[:])\n",
    "plt.xlabel(r'$N_t$')\n",
    "plt.ylabel(r'max relative error')\n",
    "plt.grid()\n",
    "plt.legend(['Implicit Euler','Crank-Nicolson','Chebyshev'])"
   ]
  },
  {
   "cell_type": "code",
   "execution_count": null,
   "metadata": {},
   "outputs": [],
   "source": [
    "print('Epsilon of the solver...')\n",
    "err_eps = []\n",
    "refinements_epsilon = 10.0 ** (-np.arange(1,11))\n",
    "for eps in refinements_epsilon:\n",
    "    integrator = TTCME.TimeIntegrator.TTInt(Att, N_max=nt, epsilon = eps, dt_max = 100, method='cheby')\n",
    "\n",
    "    p = p0.copy()\n",
    "    for i in range(Nt):\n",
    "        p.dofs = integrator.solve(p.dofs, dT, intervals = 1)\n",
    "        \n",
    "    err = np.max(np.abs(p.dofs.numpy()-p_ref)) / np.max(np.abs(p_ref))\n",
    "    err_eps.append(err)\n",
    "    print('epsilon ',eps,' error inf ',err)"
   ]
  },
  {
   "cell_type": "code",
   "execution_count": null,
   "metadata": {},
   "outputs": [],
   "source": [
    "print('Epsilon vs Nt ...')\n",
    "refinements_epsilon_2 = 10.0 ** (-np.arange(1,13))\n",
    "refinements_ch2 = [2,3,4,5,6,7,8]\n",
    "err_eps_ch = []\n",
    "for eps in refinements_epsilon_2:\n",
    "    err_temp = []\n",
    "    for nt in refinements_ch2:\n",
    "        integrator = TTCME.TimeIntegrator.TTInt(Att, N_max=nt, epsilon = eps, dt_max = 100, method='cheby')\n",
    "        p = p0.copy()\n",
    "        for i in range(Nt):\n",
    "            p.dofs = integrator.solve(p.dofs, dT, intervals = 1)\n",
    "        \n",
    "        err = np.max(np.abs(p.dofs.numpy()-p_ref)) / np.max(np.abs(p_ref))\n",
    "        err_temp.append(err)\n",
    "        print('epsilon ',eps,' nt ',nt,' error inf ',err)\n",
    "    err_eps_ch.append(err_temp)"
   ]
  },
  {
   "cell_type": "code",
   "execution_count": null,
   "metadata": {},
   "outputs": [],
   "source": [
    "plt.figure()\n",
    "plt.loglog(refinements_epsilon,err_eps)\n",
    "plt.xlabel(r'$\\epsilon$')\n",
    "plt.ylabel(r'max relative error')\n",
    "plt.grid()\n",
    "# tikzplotlib.save('convergence_eps.tex')\n",
    "\n",
    "plt.figure()\n",
    "plt.loglog(dT/np.array(refinements_ch2),np.array(err_eps_ch).transpose())\n",
    "plt.xlabel(r'$\\Delta t$ [s]')\n",
    "plt.ylabel(r'max relative error')\n",
    "plt.legend([r'$\\epsilon=$'+str(eps) for eps in refinements_epsilon_2])\n",
    "plt.grid()\n",
    "# tikzplotlib.save('convergence_eps_multiple.tex')\n",
    "\n",
    "plt.figure()\n",
    "plt.loglog(np.array(refinements_epsilon_2),np.array(err_eps_ch))\n",
    "plt.xlabel(r'$\\epsilon$')\n",
    "plt.ylabel(r'max relative error')\n",
    "plt.legend([r'$T=$'+str(tmp)+'' for tmp in np.array(refinements_ch2)])\n",
    "plt.grid()\n",
    "# tikzplotlib.save('convergence_Nt_multiple.tex')"
   ]
  },
  {
   "cell_type": "code",
   "execution_count": null,
   "metadata": {},
   "outputs": [],
   "source": [
    "\n"
   ]
  }
 ],
 "metadata": {
  "kernelspec": {
   "display_name": "Python 3.9.7 ('pytorch')",
   "language": "python",
   "name": "python3"
  },
  "language_info": {
   "codemirror_mode": {
    "name": "ipython",
    "version": 3
   },
   "file_extension": ".py",
   "mimetype": "text/x-python",
   "name": "python",
   "nbconvert_exporter": "python",
   "pygments_lexer": "ipython3",
   "version": "3.9.7"
  },
  "orig_nbformat": 4,
  "vscode": {
   "interpreter": {
    "hash": "df6fc3a9b7a9c6f4b0308ab6eb361a4cabbf6b5db181383d07014ff4304e5cb3"
   }
  }
 },
 "nbformat": 4,
 "nbformat_minor": 2
}

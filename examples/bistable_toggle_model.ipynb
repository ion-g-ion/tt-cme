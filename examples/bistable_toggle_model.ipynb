{
 "cells": [
  {
   "cell_type": "markdown",
   "metadata": {},
   "source": [
    "# Bistable toggle switch model\n",
    "\n",
    "This notebook implements the bistable toggle switch model. The particularity of it is that the propensities are given as custom functions and that the PMF has a bimodal behavior. \n",
    "\n",
    "Imports, set the accuracy to float64 and set the `qtt` flag (`True` if QTT format should be used)."
   ]
  },
  {
   "cell_type": "code",
   "execution_count": 1,
   "metadata": {},
   "outputs": [],
   "source": [
    "import torch as tn\n",
    "import torchtt as tntt\n",
    "import TTCME\n",
    "import matplotlib.pyplot as plt \n",
    "import datetime\n",
    "import numpy as np\n",
    "\n",
    "tn.set_default_tensor_type(tn.DoubleTensor)\n",
    "qtt = True"
   ]
  },
  {
   "cell_type": "markdown",
   "metadata": {},
   "source": [
    "The particularity of this model is that we provide custom propensities for 2 of the reactions.\n",
    "In the following, the reactions are defined and the CME generator is constructed.\n",
    "The state is truncated to `512` per species to allow for the PMF to stay inside the domain as well as for quantization. "
   ]
  },
  {
   "cell_type": "code",
   "execution_count": 2,
   "metadata": {},
   "outputs": [],
   "source": [
    "r1 = TTCME.ChemicalReaction(['A', 'B'], '->A', 3000.0, decomposable_propensity=[lambda x: 1.0, lambda x: 1/(11000+x**2)])\n",
    "r2 = TTCME.ChemicalReaction(['A', 'B'], 'A->', 0.001)\n",
    "r3 = TTCME.ChemicalReaction(['A', 'B'], '->B', 3000.0, decomposable_propensity=[lambda x: 1/(11000+x**2), lambda x: 1.0])\n",
    "r4 = TTCME.ChemicalReaction(['A', 'B'], 'B->', 0.001)\n",
    "\n",
    "mdl = TTCME.ReactionSystem(['A','B'],[r1, r2 ,r3, r4])\n",
    "N = [512,512]\n",
    "\n",
    "Att = mdl.generatorTT(N)"
   ]
  },
  {
   "cell_type": "markdown",
   "metadata": {},
   "source": [
    "Initial condition is implemented:\n",
    "\n",
    "$$ p(x_1,x_2|t=0) \\sim \\exp\\left(-\\frac{1}{2}\\left(\\frac{(x_1-20)^2}{20}+\\frac{(x_2-20)^2}{20}\\right)\\right)$$"
   ]
  },
  {
   "cell_type": "code",
   "execution_count": 3,
   "metadata": {},
   "outputs": [],
   "source": [
    "pdf_handle = lambda x: 1/(2*np.pi*20) * tn.exp(-0.5*(x[...,0]-20)**2/20) * tn.exp(-0.5*(x[...,1]-20)**2/20)\n",
    "pdf_0 = TTCME.pdf.pdfTT.interpoalte(pdf_handle, [TTCME.basis.DiracDeltaBase(n) for n in N], variable_names=['A','B'])"
   ]
  },
  {
   "cell_type": "markdown",
   "metadata": {},
   "source": [
    "The integrator is instantiated. The time interval is $[0,50000]$ and is divided into 25 equidistant subintervals.\n",
    "The time discretization method is `'Cheby'`."
   ]
  },
  {
   "cell_type": "code",
   "execution_count": 4,
   "metadata": {},
   "outputs": [],
   "source": [
    "fwd_int = TTCME.TimeIntegrator.TTInt(Att if not qtt else Att.to_qtt().round(1e-13), epsilon=1e-5, N_max = 8, dt_max=1000, method='cheby')\n",
    "pk = pdf_0.dofs.to_qtt() if qtt else pdf_0.dofs.clone()\n",
    "dT = 2000\n",
    "Nt = 25"
   ]
  },
  {
   "cell_type": "markdown",
   "metadata": {},
   "source": [
    "The time integration is performed."
   ]
  },
  {
   "cell_type": "code",
   "execution_count": 5,
   "metadata": {},
   "outputs": [
    {
     "name": "stdout",
     "output_type": "stream",
     "text": [
      "Time  2000 , rank  [1, 2, 2, 4, 7, 13, 23, 28, 28, 26, 26, 32, 36, 32, 16, 8, 4, 2, 1] , solver time  0:00:37.602163\n",
      "Time  4000 , rank  [1, 2, 3, 5, 9, 17, 29, 35, 35, 33, 36, 40, 39, 29, 16, 8, 4, 2, 1] , solver time  0:00:21.687366\n",
      "Time  6000 , rank  [1, 2, 3, 5, 10, 18, 31, 39, 39, 37, 42, 44, 40, 29, 16, 8, 4, 2, 1] , solver time  0:00:21.145216\n",
      "Time  8000 , rank  [1, 2, 3, 5, 10, 20, 32, 41, 41, 39, 43, 46, 40, 29, 16, 8, 4, 2, 1] , solver time  0:00:18.388869\n",
      "Time  10000 , rank  [1, 2, 3, 6, 11, 20, 33, 42, 42, 40, 45, 46, 41, 28, 16, 8, 4, 2, 1] , solver time  0:00:17.755069\n",
      "Time  12000 , rank  [1, 2, 3, 6, 11, 20, 34, 43, 43, 41, 46, 46, 40, 28, 16, 8, 4, 2, 1] , solver time  0:00:20.875641\n",
      "Time  14000 , rank  [1, 2, 3, 6, 11, 20, 35, 43, 43, 41, 46, 46, 39, 28, 16, 8, 4, 2, 1] , solver time  0:00:19.709386\n",
      "Time  16000 , rank  [1, 2, 3, 6, 11, 20, 35, 43, 43, 41, 46, 46, 39, 28, 16, 8, 4, 2, 1] , solver time  0:00:18.050634\n",
      "Time  18000 , rank  [1, 2, 3, 6, 11, 20, 35, 44, 43, 42, 46, 46, 38, 26, 16, 8, 4, 2, 1] , solver time  0:00:17.945261\n",
      "Time  20000 , rank  [1, 2, 3, 6, 11, 20, 35, 44, 44, 42, 46, 46, 37, 26, 16, 8, 4, 2, 1] , solver time  0:00:19.346394\n",
      "Time  22000 , rank  [1, 2, 3, 6, 11, 20, 35, 44, 43, 41, 46, 46, 35, 25, 16, 8, 4, 2, 1] , solver time  0:00:19.657154\n",
      "Time  24000 , rank  [1, 2, 3, 6, 11, 21, 35, 44, 43, 41, 46, 46, 35, 25, 16, 8, 4, 2, 1] , solver time  0:00:16.989564\n",
      "Time  26000 , rank  [1, 2, 3, 6, 11, 21, 35, 43, 43, 41, 45, 46, 33, 24, 16, 8, 4, 2, 1] , solver time  0:00:17.191245\n",
      "Time  28000 , rank  [1, 2, 3, 6, 11, 21, 35, 43, 43, 41, 45, 46, 33, 22, 16, 8, 4, 2, 1] , solver time  0:00:16.618572\n",
      "Time  30000 , rank  [1, 2, 3, 6, 11, 21, 35, 43, 43, 41, 45, 45, 33, 22, 16, 8, 4, 2, 1] , solver time  0:00:16.294066\n",
      "Time  32000 , rank  [1, 2, 3, 6, 11, 21, 35, 44, 43, 41, 46, 45, 32, 22, 16, 8, 4, 2, 1] , solver time  0:00:15.069254\n",
      "Time  34000 , rank  [1, 2, 3, 6, 11, 21, 35, 44, 43, 41, 46, 45, 32, 22, 16, 8, 4, 2, 1] , solver time  0:00:15.571086\n",
      "Time  36000 , rank  [1, 2, 3, 6, 11, 21, 35, 43, 43, 41, 45, 45, 32, 22, 16, 8, 4, 2, 1] , solver time  0:00:15.135043\n",
      "Time  38000 , rank  [1, 2, 3, 6, 11, 21, 35, 43, 43, 41, 45, 45, 32, 22, 15, 8, 4, 2, 1] , solver time  0:00:15.194294\n",
      "Time  40000 , rank  [1, 2, 3, 6, 11, 21, 35, 43, 43, 41, 45, 45, 32, 21, 15, 8, 4, 2, 1] , solver time  0:00:15.511403\n",
      "Time  42000 , rank  [1, 2, 3, 6, 11, 21, 35, 43, 43, 41, 45, 45, 32, 21, 15, 8, 4, 2, 1] , solver time  0:00:15.965738\n",
      "Time  44000 , rank  [1, 2, 3, 6, 11, 21, 35, 44, 43, 41, 45, 44, 31, 21, 15, 8, 4, 2, 1] , solver time  0:00:15.179356\n",
      "Time  46000 , rank  [1, 2, 3, 6, 11, 21, 35, 43, 43, 41, 45, 44, 31, 21, 15, 8, 4, 2, 1] , solver time  0:00:14.623473\n",
      "Time  48000 , rank  [1, 2, 3, 6, 11, 21, 35, 43, 43, 41, 45, 44, 30, 21, 15, 8, 4, 2, 1] , solver time  0:00:14.972483\n",
      "Time  50000 , rank  [1, 2, 3, 6, 11, 21, 35, 43, 43, 41, 45, 43, 30, 20, 15, 8, 4, 2, 1] , solver time  0:00:13.216107\n"
     ]
    }
   ],
   "source": [
    "time = 0\n",
    "for i in range(Nt):\n",
    "    tme = datetime.datetime.now()\n",
    "    pk = fwd_int.solve(pk, dT, intervals = 10, qtt = qtt, verb = False, rounding = False)\n",
    "    pk = pk.round(1e-11) \n",
    "    tme = datetime.datetime.now() - tme\n",
    "    time += dT\n",
    "    print('Time ', time, ', rank ',pk.R,', solver time ', tme)\n",
    "\n",
    "pend = pdf_0.copy()\n",
    "pend.dofs = tntt.reshape(pk, N) if qtt else pk.clone()"
   ]
  },
  {
   "cell_type": "markdown",
   "metadata": {},
   "source": [
    "Plot the final solution (as you can see it is bimodal)."
   ]
  },
  {
   "cell_type": "code",
   "execution_count": 7,
   "metadata": {},
   "outputs": [
    {
     "data": {
      "text/plain": [
       "Text(0, 0.5, '$x_2$')"
      ]
     },
     "execution_count": 7,
     "metadata": {},
     "output_type": "execute_result"
    },
    {
     "data": {
      "image/png": "[encoded data removed]",
      "text/plain": [
       "<Figure size 432x288 with 2 Axes>"
      ]
     },
     "metadata": {
      "needs_background": "light"
     },
     "output_type": "display_data"
    }
   ],
   "source": [
    "plt.figure()\n",
    "plt.imshow(pend.dofs.numpy()[:350,:350], origin='lower',cmap='gray_r')\n",
    "plt.colorbar()\n",
    "plt.xlabel(r'$x_1$')\n",
    "plt.ylabel(r'$x_2$')"
   ]
  }
 ],
 "metadata": {
  "kernelspec": {
   "display_name": "Python 3.9.7 ('pytorch')",
   "language": "python",
   "name": "python3"
  },
  "language_info": {
   "codemirror_mode": {
    "name": "ipython",
    "version": 3
   },
   "file_extension": ".py",
   "mimetype": "text/x-python",
   "name": "python",
   "nbconvert_exporter": "python",
   "pygments_lexer": "ipython3",
   "version": "3.9.7"
  },
  "orig_nbformat": 4,
  "vscode": {
   "interpreter": {
    "hash": "df6fc3a9b7a9c6f4b0308ab6eb361a4cabbf6b5db181383d07014ff4304e5cb3"
   }
  }
 },
 "nbformat": 4,
 "nbformat_minor": 2
}

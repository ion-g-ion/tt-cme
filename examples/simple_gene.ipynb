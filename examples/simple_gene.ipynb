{
 "cells": [
  {
   "cell_type": "markdown",
   "metadata": {},
   "source": [
    "# Simple gene expression model.\n",
    "\n",
    "This notebook implements the simple gene expression model and provides an example on how to use the software for solving CMEs."
   ]
  },
  {
   "cell_type": "code",
   "execution_count": 1,
   "metadata": {},
   "outputs": [],
   "source": [
    "import torch as tn\n",
    "import torchtt as tntt\n",
    "import TTCME\n",
    "import matplotlib.pyplot as plt \n",
    "import scipy.integrate\n",
    "import numpy as np\n",
    "import datetime\n",
    "\n",
    "tn.set_default_tensor_type(tn.DoubleTensor)"
   ]
  },
  {
   "cell_type": "markdown",
   "metadata": {},
   "source": [
    "Define the 4 reactions and create the reaction system object.\n",
    "Set the state truncation to `[40,120]` and construct the generator in the TT format."
   ]
  },
  {
   "cell_type": "code",
   "execution_count": 2,
   "metadata": {},
   "outputs": [],
   "source": [
    "r1 = TTCME.ChemicalReaction(['mRNA','protein'],'mRNA->mRNA+protein', 0.015)\n",
    "r2 = TTCME.ChemicalReaction(['mRNA','protein'],'mRNA->', 0.002)\n",
    "r3 = TTCME.ChemicalReaction(['mRNA','protein'],'->mRNA', 0.1)\n",
    "r4 = TTCME.ChemicalReaction(['mRNA','protein'],'protein->', 0.01)\n",
    "\n",
    "# Create a reaction system object.\n",
    "rs = TTCME.ReactionSystem(['mRNA','protein'],[r1, r2, r3, r4])\n",
    "\n",
    "\n",
    "N = [80,120] \n",
    "\n",
    "Att = rs.generatorTT(N)"
   ]
  },
  {
   "cell_type": "markdown",
   "metadata": {},
   "source": [
    "Define the time integrator."
   ]
  },
  {
   "cell_type": "code",
   "execution_count": 3,
   "metadata": {},
   "outputs": [],
   "source": [
    "integrator = TTCME.TimeIntegrator.TTInt(Att, N_max=8, dt_max = 100, method='cheby')\n",
    "\n",
    "p0 = TTCME.pdf.SingularPMF(N,[2,4])\n",
    "p = p0.copy()\n",
    "\n",
    "dt = 16 \n"
   ]
  },
  {
   "cell_type": "markdown",
   "metadata": {},
   "source": [
    "Perform the time stepping using the TT solver"
   ]
  },
  {
   "cell_type": "code",
   "execution_count": 4,
   "metadata": {},
   "outputs": [
    {
     "name": "stdout",
     "output_type": "stream",
     "text": [
      "t = 16, solver time 0.914446 s\n",
      "t = 32, solver time 1.249 s\n",
      "t = 48, solver time 1.29388 s\n",
      "t = 64, solver time 1.20559 s\n",
      "t = 80, solver time 1.15222 s\n",
      "t = 96, solver time 1.05545 s\n",
      "t = 112, solver time 1.09409 s\n",
      "t = 128, solver time 1.05898 s\n",
      "t = 144, solver time 1.02134 s\n",
      "t = 160, solver time 1.03353 s\n",
      "t = 176, solver time 1.00625 s\n",
      "t = 192, solver time 1.02897 s\n",
      "t = 208, solver time 1.07473 s\n",
      "t = 224, solver time 1.03323 s\n",
      "t = 240, solver time 1.03487 s\n",
      "t = 256, solver time 0.999669 s\n",
      "t = 272, solver time 0.997846 s\n",
      "t = 288, solver time 1.01038 s\n",
      "t = 304, solver time 0.976749 s\n",
      "t = 320, solver time 0.989737 s\n",
      "t = 336, solver time 0.96378 s\n",
      "t = 352, solver time 0.944488 s\n",
      "t = 368, solver time 0.928084 s\n",
      "t = 384, solver time 0.868794 s\n",
      "t = 400, solver time 0.839485 s\n",
      "t = 416, solver time 0.653117 s\n",
      "t = 432, solver time 0.629823 s\n",
      "t = 448, solver time 0.608421 s\n",
      "t = 464, solver time 0.561094 s\n",
      "t = 480, solver time 0.533945 s\n",
      "t = 496, solver time 0.490571 s\n",
      "t = 512, solver time 0.616635 s\n",
      "t = 528, solver time 0.580987 s\n",
      "t = 544, solver time 0.557546 s\n",
      "t = 560, solver time 0.532885 s\n",
      "t = 576, solver time 0.510527 s\n",
      "t = 592, solver time 0.489734 s\n",
      "t = 608, solver time 0.47969 s\n",
      "t = 624, solver time 0.471739 s\n",
      "t = 640, solver time 0.471826 s\n",
      "t = 656, solver time 0.475782 s\n",
      "t = 672, solver time 0.472446 s\n",
      "t = 688, solver time 0.479002 s\n",
      "t = 704, solver time 0.46901 s\n",
      "t = 720, solver time 0.466255 s\n",
      "t = 736, solver time 0.464185 s\n",
      "t = 752, solver time 0.454987 s\n",
      "t = 768, solver time 0.466482 s\n",
      "t = 784, solver time 0.457797 s\n",
      "t = 800, solver time 0.461622 s\n",
      "t = 816, solver time 0.474066 s\n",
      "t = 832, solver time 0.455216 s\n",
      "t = 848, solver time 0.456351 s\n",
      "t = 864, solver time 0.479438 s\n"
     ]
    }
   ],
   "source": [
    "time = 0\n",
    "Ps = [p.dofs.numpy()]\n",
    "for i in range(64):\n",
    "    tme = datetime.datetime.now()\n",
    "    p.dofs = integrator.solve(p.dofs, dt, intervals = 1)\n",
    "    tme = datetime.datetime.now() - tme\n",
    "    time += dt\n",
    "    print('t = %g, solver time %g s'%(time,tme.total_seconds()))\n",
    "    Ps.append(p.dofs.numpy())\n",
    "\n"
   ]
  },
  {
   "cell_type": "markdown",
   "metadata": {},
   "source": [
    "Compute the solution without the TT solver."
   ]
  },
  {
   "cell_type": "code",
   "execution_count": null,
   "metadata": {},
   "outputs": [],
   "source": [
    "Asp = rs.generator_sparse(N)\n",
    "\n",
    "res = scipy.integrate.solve_ivp(lambda t,y: Asp.dot(y), [0,time],p0.dofs.numpy().flatten(),max_step=time/10000)\n",
    "Pt = res.y.reshape(N+[-1])\n",
    "p_ref = Pt[:,:,-1]"
   ]
  },
  {
   "cell_type": "markdown",
   "metadata": {},
   "source": [
    "Plot the TT solution, the solution obtained with the classical ODE solver and the error between them."
   ]
  },
  {
   "cell_type": "code",
   "execution_count": null,
   "metadata": {},
   "outputs": [],
   "source": [
    "plt.figure()\n",
    "plt.imshow(p.dofs.full(), origin='lower',cmap='gray_r')\n",
    "plt.colorbar()\n",
    "plt.xlabel(r'$x_1$')\n",
    "plt.ylabel(r'$x_2$')\n",
    "\n",
    "plt.figure()\n",
    "plt.imshow(p_ref, origin='lower',cmap='gray_r')\n",
    "plt.colorbar()\n",
    "plt.xlabel(r'$x_1$')\n",
    "plt.ylabel(r'$x_2$')\n",
    "\n",
    "plt.figure()\n",
    "plt.imshow(np.abs(p.dofs.numpy()-p_ref), origin='lower',cmap='gray_r')\n",
    "plt.colorbar()\n",
    "plt.xlabel(r'$x_1$')\n",
    "plt.ylabel(r'$x_2$')"
   ]
  }
 ],
 "metadata": {
  "interpreter": {
   "hash": "df6fc3a9b7a9c6f4b0308ab6eb361a4cabbf6b5db181383d07014ff4304e5cb3"
  },
  "kernelspec": {
   "display_name": "Python 3.9.7 ('pytorch')",
   "language": "python",
   "name": "python3"
  },
  "language_info": {
   "codemirror_mode": {
    "name": "ipython",
    "version": 3
   },
   "file_extension": ".py",
   "mimetype": "text/x-python",
   "name": "python",
   "nbconvert_exporter": "python",
   "pygments_lexer": "ipython3",
   "version": "3.9.7"
  },
  "orig_nbformat": 4
 },
 "nbformat": 4,
 "nbformat_minor": 2
}

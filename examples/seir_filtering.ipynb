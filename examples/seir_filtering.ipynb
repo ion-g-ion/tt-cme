{
 "cells": [
  {
   "cell_type": "markdown",
   "metadata": {},
   "source": [
    "#    Filtering and smoothing - SEIR model \n",
    "\n",
    "Filtering and smoothing (belief propagation on an HMM) in the TT format for the SEIR model."
   ]
  },
  {
   "cell_type": "code",
   "execution_count": null,
   "metadata": {},
   "outputs": [],
   "source": [
    "import torch as tn\n",
    "import torchtt as tntt\n",
    "import TTCME\n",
    "import matplotlib.pyplot as plt \n",
    "import datetime\n",
    "import numpy as np\n",
    "\n",
    "tn.set_default_tensor_type(tn.DoubleTensor)\n",
    "qtt = True\n",
    "\n",
    "tme_total = datetime.datetime.now()\n"
   ]
  },
  {
   "cell_type": "markdown",
   "metadata": {},
   "source": [
    "### Setup \n",
    "\n",
    "The model is created. It contains 4 species: Susceptible, Exposed, Infected, Recovered."
   ]
  },
  {
   "cell_type": "code",
   "execution_count": null,
   "metadata": {},
   "outputs": [],
   "source": [
    "r1 = TTCME.ChemicalReaction(['S','E','I','R'],'S+I->E+I', 0.1)\n",
    "r2 = TTCME.ChemicalReaction(['S','E','I','R'],'E->I',     0.5)\n",
    "r3 = TTCME.ChemicalReaction(['S','E','I','R'],'I->S',     1.0)\n",
    "r4 = TTCME.ChemicalReaction(['S','E','I','R'],'S->',      0.01)\n",
    "r5 = TTCME.ChemicalReaction(['S','E','I','R'],'E->',      0.01)\n",
    "r6 = TTCME.ChemicalReaction(['S','E','I','R'],'I->R',     0.01)\n",
    "r7 = TTCME.ChemicalReaction(['S','E','I','R'],'->S',      0.4)\n",
    "\n",
    "mdl = TTCME.ReactionSystem(['S','E','I','R'],[r1, r2 ,r3, r4, r5 ,r6, r7])\n",
    "\n",
    "print(mdl)\n",
    "\n",
    "N = [128,128,64,32]\n",
    "x0 = [50,4,0,0]\n",
    "\n",
    "Att = mdl.generatorTT(N)"
   ]
  },
  {
   "cell_type": "markdown",
   "metadata": {},
   "source": [
    "Sample a trajectory and add noise (see figure).\n",
    "The noise model for the generation as well as the noise model for the reconstruction is lognormal. "
   ]
  },
  {
   "cell_type": "code",
   "execution_count": null,
   "metadata": {},
   "outputs": [],
   "source": [
    "No = 33\n",
    "dT = 0.3125\n",
    "\n",
    "np.random.seed(128)\n",
    "\n",
    "time_observation = np.arange(No)*dT\n",
    "time_grid = np.linspace(0,time_observation[-1],1000)\n",
    "\n",
    "reaction_time,reaction_jumps,reaction_indices = mdl.ssa_single(x0,time_grid[-1])\n",
    "states = mdl.jump_process_to_states(time_observation, reaction_time, reaction_jumps)\n",
    "states_all = mdl.jump_process_to_states(time_grid, reaction_time, reaction_jumps)\n",
    "\n",
    "s1 = 0.1\n",
    "s2 = 0.1\n",
    "s3 = 0.1\n",
    "s4 = 0.05\n",
    "observations = states + np.hstack((np.random.normal(0,1,(states.shape[0],3)),np.random.normal(0,0.000001,[states.shape[0],1])))\n",
    "observations = np.hstack((np.random.lognormal(np.log(states[:,0]+1),s1).reshape([-1,1]) , np.random.lognormal(np.log(states[:,1]+1),s2).reshape([-1,1]) , np.random.lognormal(np.log(states[:,2]+1),s3).reshape([-1,1]) , np.random.lognormal(np.log(states[:,3]+1),s4).reshape([-1,1])))\n",
    "\n",
    "plt.figure()\n",
    "plt.plot(time_grid, states_all)\n",
    "plt.scatter(time_observation, observations[:,0],marker='x')\n",
    "plt.scatter(time_observation, observations[:,1],marker='x')\n",
    "plt.scatter(time_observation, observations[:,2],marker='x')\n",
    "plt.scatter(time_observation, observations[:,3],marker='x')\n",
    "plt.xlabel(r'$t$')\n",
    "plt.ylabel(r'#individuals')\n",
    "plt.legend(['S','E','I','R'])"
   ]
  },
  {
   "cell_type": "markdown",
   "metadata": {},
   "source": [
    "Construct the CME generator in the TT format and instantiate the observation operator."
   ]
  },
  {
   "cell_type": "code",
   "execution_count": null,
   "metadata": {},
   "outputs": [],
   "source": [
    "Att = mdl.generatorTT(N)\n",
    "if qtt: Aqtt = Att.to_qtt()\n",
    "\n",
    "p0 = TTCME.pdf.SingularPMF(N, x0)\n",
    "\n",
    "observation_operator = TTCME.pdf.LogNormalObservation(N, [s1,s2,s3,s4])"
   ]
  },
  {
   "cell_type": "markdown",
   "metadata": {},
   "source": [
    "### Forward pass\n",
    "\n",
    "Perform the forward pass (the filtering)."
   ]
  },
  {
   "cell_type": "code",
   "execution_count": null,
   "metadata": {},
   "outputs": [],
   "source": [
    "\n",
    "if qtt:\n",
    "    fwd_int = TTCME.TimeIntegrator.TTInt(Aqtt, epsilon = 1e-6, N_max = 8, dt_max = 1.0,method='cheby')\n",
    "    pk = p0.dofs.to_qtt()\n",
    "else:\n",
    "    fwd_int = TTCME.TimeIntegrator.TTInt(Att, epsilon = 1e-6, N_max = 8, dt_max = 1.0,method='cheby')\n",
    "    pk = p0.dofs.clone()\n",
    "\n"
   ]
  },
  {
   "cell_type": "markdown",
   "metadata": {},
   "source": [
    "Forward pass."
   ]
  },
  {
   "cell_type": "code",
   "execution_count": null,
   "metadata": {},
   "outputs": [],
   "source": [
    "P_fwd = [pk.clone()]\n",
    "ranks_fwd = [[0,max(p0.dofs.R)]]\n",
    "time = 0\n",
    "for i in range(1,No):\n",
    "    \n",
    "    # likelihood for the current observation    \n",
    "    po = observation_operator.likelihood(observations[i,:])\n",
    "        \n",
    "    if qtt: po = po.to_qtt()\n",
    "    \n",
    "    tme = datetime.datetime.now()\n",
    "\n",
    "    # prediction\n",
    "    pks = fwd_int.solve(pk, dT, intervals = 6,return_all=True,qtt=qtt) \n",
    "\n",
    "    # correction step\n",
    "    if qtt :\n",
    "        P_fwd += [p[...,-1].round(1e-8) for p in pks] \n",
    "        for k in range(len(pks)):\n",
    "            time+=dT/len(pks)\n",
    "            ranks_fwd += [[time,max(pks[k][...,-1].round(1e-10).R)]]\n",
    "        pk = pks[-1][...,-1]\n",
    "    else:\n",
    "        P_fwd += [p[:,:,:,:,-1] for p in pks] \n",
    "        pk = pks[-1][:,:,:,:,-1]\n",
    "        \n",
    "    tme = datetime.datetime.now() - tme\n",
    "\n",
    "    print('\\tmax rank before observation ',max(pk.round(1e-10).R),' not rounded ',max(pk.R))\n",
    "    p_next = pk * po\n",
    "    p_next = p_next.round(1e-10)\n",
    "    p_next = p_next / p_next.sum()\n",
    "    print('\\tMax rank after observation ',max(p_next.R))\n",
    "    ranks_fwd += [[time,max(p_next.R)]]\n",
    "    pk = p_next \n",
    "    \n",
    "    # P_fwd.append(P)\n",
    "    \n",
    "    print('observation ',i+1,' at time ',time_observation[i],' is ' ,observations[i,:],' time elapsed',tme)\n",
    "\n",
    "ranks_fwd = np.array(ranks_fwd)"
   ]
  },
  {
   "cell_type": "markdown",
   "metadata": {},
   "source": [
    "### Backward pass\n",
    "\n",
    "The smoothing."
   ]
  },
  {
   "cell_type": "code",
   "execution_count": null,
   "metadata": {},
   "outputs": [],
   "source": [
    "pk = tntt.ones(N)\n",
    "if qtt:\n",
    "    A_qtt = Att.t().to_qtt()\n",
    "    bck_int = TTCME.TimeIntegrator.TTInt(A_qtt, epsilon = 1e-6, N_max = 8, dt_max = 1.0,method='cheby')\n",
    "    pk = pk.to_qtt()\n",
    "else:\n",
    "    bck_int = TTCME.TimeIntegrator.TTInt(Att.t(), epsilon = 1e-6, N_max = 8, dt_max = 1.0,method='cheby')"
   ]
  },
  {
   "cell_type": "code",
   "execution_count": null,
   "metadata": {},
   "outputs": [],
   "source": [
    "P_bck = []\n",
    "ranks_bck = []\n",
    "for i in range(No-1,0,-1):\n",
    "    \n",
    "    po = observation_operator.likelihood(observations[i,:])\n",
    "        \n",
    "    po = po / po.sum()\n",
    "\n",
    "    if qtt: po = po.to_qtt()\n",
    "\n",
    "    tme = datetime.datetime.now()\n",
    "\n",
    "    print('\\tmax rank before observation ',max(pk.R),' rank of observation ',max(po.R))\n",
    "    pk = (pk * po).round(1e-10)\n",
    "    print('\\tmax rank after observation ',max(pk.R))\n",
    "\n",
    "    pks = bck_int.solve(pk, dT, intervals = 6,return_all=True,qtt = qtt)\n",
    "    \n",
    "    if qtt :\n",
    "        P_bck += [p[...,0].round(1e-8) for p in pks] \n",
    "        pk = pks[-1][...,-1]\n",
    "    else:\n",
    "        P_bck += [p[:,:,:,:,0] for p in pks]\n",
    "        pk = pks[-1][:,:,:,:,-1]\n",
    "        \n",
    "    tme = datetime.datetime.now() - tme\n",
    "    \n",
    "    p_next = pk.round(1e-10)\n",
    "    p_next = p_next / p_next.sum()\n",
    "    \n",
    "    pk = p_next \n",
    "    \n",
    "    \n",
    "    print('observation ',i+1,' at time ',time_observation[i],' is ' ,observations[i,:] ,' time elapsed',tme,' s')\n",
    "\n",
    "P_bck.append(pk)\n",
    "P_bck = P_bck[::-1]"
   ]
  },
  {
   "cell_type": "markdown",
   "metadata": {},
   "source": [
    "<h2> Combine messages </h2>\n",
    "\n",
    "The messages from the forward and the backward pass are combined (by multiplication).\n",
    "Moreover, the expected value and the variances are calculated."
   ]
  },
  {
   "cell_type": "code",
   "execution_count": null,
   "metadata": {},
   "outputs": [],
   "source": [
    "P_hmm = []\n",
    "\n",
    "x1, x2, x3, x4 = tntt.meshgrid([tn.arange(n, dtype = tn.float64) for n in N])\n",
    "\n",
    "Es = []\n",
    "Vs = []\n",
    "\n",
    "if qtt:\n",
    "    x1 = x1.to_qtt()\n",
    "    x2 = x2.to_qtt()\n",
    "    x3 = x3.to_qtt()\n",
    "    x4 = x4.to_qtt()\n",
    "    \n",
    "for i in range(len(P_bck)):\n",
    "    Pf = P_fwd[i]\n",
    "    Pb = P_bck[i]\n",
    "\n",
    "    Z = tntt.dot(Pf,Pb)\n",
    "    \n",
    "    mean = [tntt.dot(Pf,Pb*x1)/Z, tntt.dot(Pf,Pb*x2)/Z, tntt.dot(Pf,Pb*x3)/Z, tntt.dot(Pf,Pb*x4)/Z]\n",
    "    var = [tntt.dot(Pf*x1,Pb*x1)/Z-mean[0]**2, tntt.dot(Pf*x2,Pb*x2)/Z-mean[1]**2, tntt.dot(Pf*x3,Pb*x3)/Z-mean[2]**2, tntt.dot(Pf*x4,Pb*x4)/Z-mean[3]**2]\n",
    "\n",
    "    Es.append(mean)\n",
    "    Vs.append(var)\n",
    "    \n",
    "    \n",
    "Es = np.array(Es)\n",
    "Vs = np.sqrt(np.array(Vs))\n",
    "Vs = np.nan_to_num(Vs)\n",
    "tme_total = datetime.datetime.now() - tme_total\n",
    "\n",
    "\n",
    "\n",
    "print()\n",
    "print('Elapsed time',tme_total)\n",
    "print('Total size forward messages ',sum([tntt.numel(p) for p in P_fwd])*8/1e6,' MB')\n",
    "print('Total size backward messagea ',sum([tntt.numel(p) for p in P_bck])*8/1e6,' MB')\n",
    "print()"
   ]
  },
  {
   "cell_type": "markdown",
   "metadata": {},
   "source": [
    "### Plots\n",
    "\n",
    "The ranks during the loops are also ploted to show that incorporating the measurement acts reduces the rank."
   ]
  },
  {
   "cell_type": "code",
   "execution_count": null,
   "metadata": {},
   "outputs": [],
   "source": [
    "import tikzplotlib\n",
    "\n",
    "n  = Es.shape[0]\n",
    "time_plot = np.linspace(0,(No-1)*dT,n)\n",
    "plt.figure()\n",
    "plt.fill(np.concatenate((time_plot,time_plot[::-1])), np.concatenate((Es[:,0] - Vs[:,0],Es[::-1,0] + Vs[::-1,0])), 'grey') \n",
    "plt.plot(np.repeat(reaction_time,2)[1:],np.repeat(reaction_jumps[:,0],2)[:-1],'b',linewidth=1,label='true state')\n",
    "plt.plot(time_plot,Es[:,0],'r--',linewidth=1,label='mean')\n",
    "plt.scatter(time_observation,observations[:,0],s=5,c='k',label='observations')\n",
    "plt.xlabel(r'$t$')\n",
    "plt.ylabel(r'#individuals')\n",
    "plt.legend(['true state','mean','std','observations'])\n",
    "tikzplotlib.save('./seir_filter_S.tex',table_row_sep=r\"\\\\\")\n",
    "\n",
    "plt.figure()\n",
    "plt.fill(np.concatenate((time_plot,time_plot[::-1])), np.concatenate((Es[:,1] - Vs[:,1],Es[::-1,1] + Vs[::-1,1])), 'grey') \n",
    "plt.plot(np.repeat(reaction_time,2)[1:],np.repeat(reaction_jumps[:,1],2)[:-1],'b',linewidth=1)\n",
    "plt.plot(time_plot,Es[:,1],'r--',linewidth=1)\n",
    "plt.scatter(time_observation,observations[:,1],s=5,c='k')\n",
    "plt.legend(['true state','mean','std','observations'])\n",
    "plt.xlabel(r'$t$')\n",
    "plt.ylabel(r'#individuals')\n",
    "tikzplotlib.save('./seir_filter_E.tex',table_row_sep=r\"\\\\\")\n",
    "\n",
    "plt.figure()\n",
    "plt.fill(np.concatenate((time_plot,time_plot[::-1])), np.concatenate((Es[:,2] - Vs[:,2],Es[::-1,2] + Vs[::-1,2])), 'grey') \n",
    "plt.plot(np.repeat(reaction_time,2)[1:],np.repeat(reaction_jumps[:,2],2)[:-1],'b',linewidth=1)\n",
    "plt.plot(time_plot,Es[:,2],'r--',linewidth=1)\n",
    "plt.scatter(time_observation,observations[:,2],s=5,c='k',marker='x')\n",
    "plt.legend(['true state','mean','std','observations'])\n",
    "plt.xlabel(r'$t$')\n",
    "plt.ylabel(r'#individuals')\n",
    "tikzplotlib.save('./seir_filter_I.tex',table_row_sep=r\"\\\\\")\n",
    "\n",
    "plt.figure()\n",
    "plt.fill(np.concatenate((time_plot,time_plot[::-1])), np.concatenate((Es[:,3] - Vs[:,3],Es[::-1,3] + Vs[::-1,3])), 'grey') \n",
    "plt.plot(np.repeat(reaction_time,2)[1:],np.repeat(reaction_jumps[:,3],2)[:-1],'b',linewidth=1)\n",
    "plt.plot(time_plot,Es[:,3],'r--',linewidth=1)\n",
    "plt.scatter(time_observation,observations[:,3],marker=\"x\", c=\"k\",  s=5)\n",
    "plt.legend(['true state','mean','std','observations'])\n",
    "plt.xlabel(r'$t$')\n",
    "plt.ylabel(r'#individuals')\n",
    "tikzplotlib.save('./seir_filter_R.tex',table_row_sep=r\"\\\\\")\n",
    "\n",
    "plt.figure()\n",
    "plt.plot(ranks_fwd[:,0],ranks_fwd[:,1],marker='^',linewidth = 0.5)\n",
    "plt.xlabel(r'$t$')\n",
    "plt.ylabel(r'maximum TT-rank')\n",
    "plt.grid()\n",
    "tikzplotlib.save('./seir_filter_ranks.tex',table_row_sep=r\"\\\\\")\n"
   ]
  }
 ],
 "metadata": {
  "kernelspec": {
   "display_name": "Python 3.9.7 ('pytorch')",
   "language": "python",
   "name": "python3"
  },
  "language_info": {
   "codemirror_mode": {
    "name": "ipython",
    "version": 3
   },
   "file_extension": ".py",
   "mimetype": "text/x-python",
   "name": "python",
   "nbconvert_exporter": "python",
   "pygments_lexer": "ipython3",
   "version": "3.9.7"
  },
  "orig_nbformat": 4,
  "vscode": {
   "interpreter": {
    "hash": "df6fc3a9b7a9c6f4b0308ab6eb361a4cabbf6b5db181383d07014ff4304e5cb3"
   }
  }
 },
 "nbformat": 4,
 "nbformat_minor": 2
}

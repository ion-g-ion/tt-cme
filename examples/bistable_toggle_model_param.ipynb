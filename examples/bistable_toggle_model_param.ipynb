{
 "cells": [
  {
   "cell_type": "markdown",
   "metadata": {},
   "source": [
    "# Bistable toggle switch model\n",
    "\n",
    "This notebook implements the bistable toggle switch model. The particularity of it is that the propensities are given as custom functions and that the PMF has a bimodal behavior. \n",
    "\n",
    "Imports, set the accuracy to float64 and set the `qtt` flag (`True` if QTT format should be used)."
   ]
  },
  {
   "cell_type": "code",
   "execution_count": null,
   "metadata": {},
   "outputs": [],
   "source": [
    "import torch as tn\n",
    "import torchtt as tntt\n",
    "import TTCME\n",
    "import matplotlib.pyplot as plt \n",
    "import datetime\n",
    "import numpy as np\n",
    "\n",
    "tn.set_default_tensor_type(tn.DoubleTensor)\n",
    "qtt = True"
   ]
  },
  {
   "cell_type": "markdown",
   "metadata": {},
   "source": [
    "The particularity of this model is that we provide custom propensities for 2 of the reactions.\n",
    "In the following, the reactions are defined and the CME generator is constructed.\n",
    "The state is truncated to `512` per species to allow for the PMF to stay inside the domain as well as for quantization. "
   ]
  },
  {
   "cell_type": "code",
   "execution_count": null,
   "metadata": {},
   "outputs": [],
   "source": [
    "r1 = TTCME.ChemicalReaction(['A', 'B'], '->A', 3000.0, decomposable_propensity=[lambda x,val: 1.0, lambda x,val: 1/(val+x**2)],params=['v1'])\n",
    "r2 = TTCME.ChemicalReaction(['A', 'B'], 'A->', 0.001)\n",
    "r3 = TTCME.ChemicalReaction(['A', 'B'], '->B', 3000.0, decomposable_propensity=[lambda x,val: 1/(val+x**2), lambda x,val: 1.0],params=['v2'])\n",
    "r4 = TTCME.ChemicalReaction(['A', 'B'], 'B->', 0.001)\n",
    "\n",
    "mdl = TTCME.ReactionSystem(['A','B'],[r1, r2 ,r3, r4], params=['v1','v2'])\n",
    "N = [100,100]\n",
    "\n",
    "Nl = 64\n",
    "param_range = [[9000,12000],[8000,13000]]\n",
    "basis_param = [TTCME.basis.BSplineBasis(Nl,[p[0],p[1]],deg = 2) for p in param_range]\n",
    "Att = mdl.generator_TT_parameters(N,[np.array([9000,11000]), np.array([9500,11000])])"
   ]
  },
  {
   "cell_type": "markdown",
   "metadata": {},
   "source": [
    "The system is built for foxed parameters."
   ]
  },
  {
   "cell_type": "code",
   "execution_count": null,
   "metadata": {},
   "outputs": [],
   "source": [
    "r1t = TTCME.ChemicalReaction(['A', 'B'], '->A', 3000.0, decomposable_propensity=[lambda x: 1.0, lambda x: 1/(11000+x**2)])\n",
    "r2t = TTCME.ChemicalReaction(['A', 'B'], 'A->', 0.001)\n",
    "r3t = TTCME.ChemicalReaction(['A', 'B'], '->B', 3000.0, decomposable_propensity=[lambda x: 1/(11000+x**2), lambda x: 1.0])\n",
    "r4t = TTCME.ChemicalReaction(['A', 'B'], 'B->', 0.001)\n",
    "\n",
    "mdlt = TTCME.ReactionSystem(['A','B'],[r1t, r2t ,r3t, r4t])\n",
    "\n",
    "Asp = mdlt.generator_sparse(N)"
   ]
  },
  {
   "cell_type": "markdown",
   "metadata": {},
   "source": [
    "The generators are compared."
   ]
  },
  {
   "cell_type": "code",
   "execution_count": null,
   "metadata": {},
   "outputs": [],
   "source": [
    "Attt = Att[:,:,1,1,:,:,1,1]\n",
    "print('Reltive error', np.linalg.norm(Asp.toarray()-Attt.numpy().reshape([100**2,-1]))/np.linalg.norm(Asp.toarray()))"
   ]
  }
 ],
 "metadata": {
  "kernelspec": {
   "display_name": "Python 3.9.7 ('pytorch')",
   "language": "python",
   "name": "python3"
  },
  "language_info": {
   "codemirror_mode": {
    "name": "ipython",
    "version": 3
   },
   "file_extension": ".py",
   "mimetype": "text/x-python",
   "name": "python",
   "nbconvert_exporter": "python",
   "pygments_lexer": "ipython3",
   "version": "3.9.7"
  },
  "orig_nbformat": 4,
  "vscode": {
   "interpreter": {
    "hash": "df6fc3a9b7a9c6f4b0308ab6eb361a4cabbf6b5db181383d07014ff4304e5cb3"
   }
  }
 },
 "nbformat": 4,
 "nbformat_minor": 2
}

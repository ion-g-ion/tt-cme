{
 "cells": [
  {
   "cell_type": "markdown",
   "metadata": {},
   "source": []
  },
  {
   "cell_type": "code",
   "execution_count": null,
   "metadata": {},
   "outputs": [],
   "source": [
    "import torch as tn\n",
    "import torchtt as tntt\n",
    "import TTCME\n",
    "import matplotlib.pyplot as plt \n",
    "import datetime\n",
    "import numpy as np\n",
    "import pickle \n",
    "\n",
    "tn.set_default_tensor_type(tn.DoubleTensor)\n",
    "qtt = True"
   ]
  },
  {
   "cell_type": "markdown",
   "metadata": {},
   "source": [
    "Define the model. The 4 reaction coefficients are the parameters."
   ]
  },
  {
   "cell_type": "code",
   "execution_count": null,
   "metadata": {},
   "outputs": [],
   "source": [
    "r1m = TTCME.ChemicalReaction(['mRNA','protein'],'mRNA->', 'c1', params = ['c1'])\n",
    "r2m = TTCME.ChemicalReaction(['mRNA','protein'],'mRNA->mRNA+protein', 'c2', params = ['c2'])\n",
    "r3m = TTCME.ChemicalReaction(['mRNA','protein'],'->mRNA', 'c3', params = ['c3'])\n",
    "r4m = TTCME.ChemicalReaction(['mRNA','protein'],'protein->', 'c4', params = ['c4'])\n",
    "\n",
    "mdl = TTCME.ReactionSystem(['mRNA','protein'],[r1m, r2m, r3m, r4m], params= ['c1','c2','c3','c4'])\n",
    "\n",
    "rates = np.array([0.002,0.015,0.1,0.01])\n",
    "IC = [2,4]\n",
    "N = [64,64]"
   ]
  },
  {
   "cell_type": "markdown",
   "metadata": {},
   "source": [
    "Load the measurements and the reference from the file."
   ]
  },
  {
   "cell_type": "code",
   "execution_count": null,
   "metadata": {},
   "outputs": [],
   "source": [
    "with open(r\"simplegene_64_500k.pickle\", \"rb\") as input_file:\n",
    "    dct = pickle.load(input_file) \n",
    "\n",
    "No = dct['time_observation'].size\n",
    "time_observation = dct['time_observation']\n",
    "reaction_time = dct['reaction_time']\n",
    "reaction_jumps = dct['reaction_jumps']\n",
    "reaction_indices = dct['reaction_indices']\n",
    "observations = dct['observations']\n",
    "observations_noise = dct['observations_noise']\n",
    "dT = time_observation[1]-time_observation[0]\n",
    "sigma = dct['sigma']\n",
    "sample_posterior_mcmc = dct['sample']"
   ]
  },
  {
   "cell_type": "markdown",
   "metadata": {},
   "source": [
    "Plot the observations and the true trajectory."
   ]
  },
  {
   "cell_type": "code",
   "execution_count": null,
   "metadata": {},
   "outputs": [],
   "source": [
    "plt.figure()\n",
    "plt.plot(np.repeat(reaction_time,2)[1:],np.repeat(reaction_jumps[:,0],2)[:-1],'b')\n",
    "plt.plot(np.repeat(reaction_time,2)[1:],np.repeat(reaction_jumps[:,1],2)[:-1],'r') \n",
    "plt.scatter(time_observation,observations_noise[:,0],c='b',s=20)\n",
    "plt.scatter(time_observation,observations_noise[:,1],c='r',marker='x',s=20)\n",
    "plt.xlabel('t [s]')\n",
    "plt.ylabel('#individuals')\n",
    "plt.legend(['mRNA','Protein','mRNA observation','Protein observation'])"
   ]
  },
  {
   "cell_type": "markdown",
   "metadata": {},
   "source": [
    "Define the basis of the parameter space."
   ]
  },
  {
   "cell_type": "code",
   "execution_count": null,
   "metadata": {},
   "outputs": [],
   "source": [
    "Nl = 64\n",
    "mult = 6\n",
    "param_range = [[0,rc*mult] for rc in rates]\n",
    "basis_param = [TTCME.basis.BSplineBasis(Nl,[p[0],p[1]],deg = 2) for p in param_range]"
   ]
  },
  {
   "cell_type": "markdown",
   "metadata": {},
   "source": [
    "Define the prior distribution (independent gamma)."
   ]
  },
  {
   "cell_type": "code",
   "execution_count": null,
   "metadata": {},
   "outputs": [],
   "source": [
    "mu = rates\n",
    "var = rates / np.array([1000,350,25,600])\n",
    "alpha_prior = mu**2/var\n",
    "beta_prior = mu/var\n",
    "prior = TTCME.GammaPDF(alpha_prior, beta_prior, basis_param, ['c1','c2','c3','c4'])\n"
   ]
  },
  {
   "cell_type": "markdown",
   "metadata": {},
   "source": [
    "Define the initial condition and the joint PDF."
   ]
  },
  {
   "cell_type": "code",
   "execution_count": null,
   "metadata": {},
   "outputs": [],
   "source": [
    "p_ic = TTCME.pdf.SingularPMF(N,IC,['mRNA','protein'])\n",
    "p0 = p_ic ** prior\n",
    "p0.normalize()\n",
    "\n",
    "p = p0.dofs.clone()\n",
    "\n",
    "print(p0)"
   ]
  },
  {
   "cell_type": "markdown",
   "metadata": {},
   "source": [
    "Instantiate the observation operator."
   ]
  },
  {
   "cell_type": "code",
   "execution_count": null,
   "metadata": {},
   "outputs": [],
   "source": [
    "obs_operator = TTCME.pdf.GaussianObservation(N, [sigma]*2)"
   ]
  },
  {
   "cell_type": "markdown",
   "metadata": {},
   "source": [
    "Compute the CME operator for the parameter dependent case."
   ]
  },
  {
   "cell_type": "code",
   "execution_count": null,
   "metadata": {},
   "outputs": [],
   "source": [
    "Stt,Mtt,Mtt_inv = mdl.generator_tt_galerkin(N, basis_param)\n",
    "Att = Mtt_inv @ Stt"
   ]
  },
  {
   "cell_type": "markdown",
   "metadata": {},
   "source": [
    "Instantiate the TT time-domain solver. If the `qtt` flag is `True`, the result will be performed in the QTT format."
   ]
  },
  {
   "cell_type": "code",
   "execution_count": null,
   "metadata": {},
   "outputs": [],
   "source": [
    "if qtt:\n",
    "    A_qtt = Att.to_qtt()\n",
    "    fwd_int = TTCME.TimeIntegrator.TTInt(A_qtt, epsilon = 1e-5, N_max = 8, dt_max = 1.0,method='cheby')\n",
    "    Nbs = 4\n",
    "    p = p.to_qtt()\n",
    "else:\n",
    "    fwd_int = TTCME.TimeIntegrator.TTInt(Att, epsilon = 1e-5, N_max = 64, dt_max = 1.0,method='crank–nicolson')\n",
    "    Nbs = 4"
   ]
  },
  {
   "cell_type": "markdown",
   "metadata": {},
   "source": [
    "Perform the perameter inference."
   ]
  },
  {
   "cell_type": "code",
   "execution_count": null,
   "metadata": {},
   "outputs": [],
   "source": [
    "posterior_list  =[]\n",
    "joint_pdf = p0.copy()\n",
    "for i in range(1,No):\n",
    "    \n",
    "    y = observations_noise[i,:]\n",
    "\n",
    "    \n",
    "    po = obs_operator.likelihood(y) \n",
    "    #po = po / po.sum()\n",
    "    \n",
    "    po = po ** tntt.ones([Nl]*4)\n",
    "\n",
    "    if qtt: po = po.to_qtt()\n",
    "    \n",
    "    print('new observation ',i,'/',No,' at time ',time_observation[i],' ',y)\n",
    "    \n",
    "    tme = datetime.datetime.now()\n",
    "    p = fwd_int.solve(p, dT, intervals = Nbs,qtt = qtt,verb = False, rounding=True, device = 'cuda:0')\n",
    "    tme = datetime.datetime.now() - tme\n",
    "    \n",
    "    \n",
    "    print('\\tmax rank ',max(p.R))\n",
    "    p_pred = p\n",
    "    p_post = po * p_pred\n",
    "    p_post = p_post.round(1e-10)\n",
    "    print('\\tmax rank (after observation) ',max(p_post.R))\n",
    "    \n",
    "    if qtt:\n",
    "        joint_pdf.dofs = tntt.reshape(p_post,joint_pdf.dofs.N)\n",
    "        Z = joint_pdf.Z\n",
    "        joint_pdf.normalize()\n",
    "        p = p_post / Z\n",
    "    else:\n",
    "        joint_pdf.dofs = p_post.clone()\n",
    "        joint_pdf.normalize()\n",
    "        p = joint_pdf.dofs.clone()\n",
    "\n",
    "    \n",
    "    posterior_pdf = joint_pdf.marginal([0,1])\n",
    "    posterior_pdf.round(1e-10)\n",
    "    posterior_list.append(posterior_pdf.copy())\n",
    "\n",
    "\n",
    "\n",
    "    E = posterior_pdf.expected_value()\n",
    "    \n",
    "    print('\\tExpected value computed posterior ' ,E)\n",
    "    # print('\\tVariance computed posterior       ' ,V)\n",
    "    print('\\tposterior size ',tntt.numel(p)*8 / 1000000,' MB')\n",
    "    print('\\telapsed ',tme)"
   ]
  },
  {
   "cell_type": "code",
   "execution_count": null,
   "metadata": {},
   "outputs": [],
   "source": [
    "posterior_pdf.normalize()\n",
    "nburn = 200000\n",
    "\n",
    "E = posterior_pdf.expected_value()\n",
    "C = posterior_pdf.covariance_matrix()\n",
    "V = np.diag(C)\n",
    "\n",
    "print()\n",
    "print('Exact rates:                      ',rates)\n",
    "print('')\n",
    "print('Expected value computed posterior ' ,E)\n",
    "print('Variance computed posterior       ' ,V)\n",
    "# print('Computed modes:                   ',theta_mode)\n",
    "print('')\n",
    "print('Expected MCMC posterior           ' ,np.mean(sample_posterior_mcmc[nburn:,:],0))\n",
    "print('Variance MCMC posterior           ' ,np.std(sample_posterior_mcmc[nburn:,:],0)**2)\n",
    "print('')\n",
    "print('Relative absolute error exp       ',np.abs(np.mean(sample_posterior_mcmc[nburn:,:],0)-E)/E * 100,' %')\n",
    "print('Relative absolute error var       ',np.abs(np.std(sample_posterior_mcmc[nburn:,:],0)**2-V)/V * 100,' %')\n",
    "print('')\n",
    "print('Expected value prior              ' ,alpha_prior/beta_prior)\n",
    "print('Variance computed prior           ' ,alpha_prior/beta_prior/beta_prior)\n",
    "print('')\n",
    "\n",
    "\n",
    "post_1 = posterior_pdf.marginal([1,2,3])\n",
    "post_2 = posterior_pdf.marginal([0,2,3])\n",
    "post_3 = posterior_pdf.marginal([0,1,3])\n",
    "post_4 = posterior_pdf.marginal([0,1,2])\n",
    "\n",
    "\n",
    "for i in range(4):\n",
    "    pr = prior.marginal([j for j in range(4) if i!=j])\n",
    "    po = posterior_pdf.marginal([j for j in range(4) if i!=j])\n",
    "    x = np.linspace(param_range[i][0],param_range[i][1],1000)\n",
    "    \n",
    "    \n",
    "    plt.figure()\n",
    "    plt.plot(x, po[x].numpy())\n",
    "    plt.hist(sample_posterior_mcmc[nburn:,i],bins=128,density=True,color='c',alpha=0.4)\n",
    "    plt.axvline(rates[i],c='r',linestyle=':')\n",
    "    plt.plot(x, pr[x].numpy())"
   ]
  },
  {
   "cell_type": "code",
   "execution_count": null,
   "metadata": {},
   "outputs": [],
   "source": [
    "plt.figure(figsize = [6,6])\n",
    "\n",
    "k = 0\n",
    "for i in range(4):\n",
    "    for j in range(4):\n",
    "        k += 1\n",
    "        if i==j:\n",
    "            plt.subplot(4, 4, k)\n",
    "            \n",
    "            theta = np.linspace(param_range[i][0],param_range[i][1],1000)\n",
    "            pr = prior.marginal([k for k in range(4) if i!=k])[theta].numpy()\n",
    "            po = posterior_pdf.marginal([k for k in range(4) if i!=k])[theta].numpy()\n",
    "           \n",
    "            plt.plot(theta,po/np.max(po)*np.max(theta))\n",
    "            count, bins = np.histogram(sample_posterior_mcmc[nburn:,i],bins=128,density=True)\n",
    "            count = count/np.max(po)*np.max(theta)\n",
    "            plt.hist(bins[:-1], bins, weights=count,color='c',alpha=0.4)\n",
    "            plt.axvline(rates[i],c='r',linestyle=':')\n",
    "            plt.plot(theta,pr/np.max(po)*np.max(theta),'g:')\n",
    "            \n",
    "        else:\n",
    "            plt.subplot(4, 4, k)\n",
    "             \n",
    "            if j<i: \n",
    "                theta1 = np.linspace(param_range[j][0],param_range[j][1],127)\n",
    "                theta2 = np.linspace(param_range[i][0],param_range[i][1],128)\n",
    "                \n",
    "                T1, T2 = np.meshgrid(theta1, theta2)\n",
    "                po = posterior_pdf.marginal([k for k in range(4) if i!=k and j!=k])\n",
    "                po.normalize()\n",
    "                po = po[theta1,theta2].numpy().T\n",
    "                \n",
    "\n",
    "                counts,ybins,xbins,image = plt.hist2d(sample_posterior_mcmc[nburn:,j],sample_posterior_mcmc[nburn:,i],bins=100,density = True, range =[[T1.min(), T1.max()],[T2.min(), T2.max()]])\n",
    "                plt.contour(counts.T,extent=[T1.min(), T1.max(), T2.min(), T2.max()],linewidths=1,levels=10, cmap =plt.cm.Greens)\n",
    "\n",
    "                plt.contourf(T1, T2, po, cmap='gray_r', levels =12)\n",
    "\n",
    "                plt.axvline(rates[j],c='r',linestyle=':',linewidth=1)\n",
    "                plt.axhline(rates[i],c='r',linestyle=':',linewidth=1)\n",
    "            else: \n",
    "                theta1 = np.linspace(param_range[i][0],param_range[i][1],127)\n",
    "                theta2 = np.linspace(param_range[j][0],param_range[j][1],128)\n",
    "                \n",
    "                T1, T2 = np.meshgrid(theta1, theta2)\n",
    "                po = posterior_pdf.marginal([k for k in range(4) if i!=k and j!=k])\n",
    "                po.normalize()\n",
    "                po = po[theta1,theta2].numpy().T\n",
    "\n",
    "                counts,ybins,xbins,image = plt.hist2d(sample_posterior_mcmc[nburn:,j],sample_posterior_mcmc[nburn:,i],bins=100,density = True, range =[[T2.min(), T2.max()],[T1.min(), T1.max()]])\n",
    "                plt.contour(counts.T,extent=[T2.min(), T2.max(), T1.min(), T1.max()],linewidths=1,levels=10, cmap =plt.cm.Greens)\n",
    "\n",
    "                plt.contourf(T2, T1, po, cmap='gray_r', levels =32)\n",
    "\n",
    "                plt.axvline(rates[j],c='r',linestyle=':',linewidth=1)\n",
    "                plt.axhline(rates[i],c='r',linestyle=':',linewidth=1)\n",
    "        \n",
    "        if i==3: plt.xlabel(r'$\\theta_'+str(j+1)+'$')\n",
    "        if j==0: plt.ylabel(r'$\\theta_'+str(i+1)+'$')\n",
    "        \n",
    "        if j>0: plt.yticks([])\n",
    "        if i<3: plt.xticks([])\n",
    "\n",
    "plt.savefig('simple_gene_post.eps')"
   ]
  }
 ],
 "metadata": {
  "kernelspec": {
   "display_name": "Python 3.9.7 ('pytorch')",
   "language": "python",
   "name": "python3"
  },
  "language_info": {
   "codemirror_mode": {
    "name": "ipython",
    "version": 3
   },
   "file_extension": ".py",
   "mimetype": "text/x-python",
   "name": "python",
   "nbconvert_exporter": "python",
   "pygments_lexer": "ipython3",
   "version": "3.9.7"
  },
  "orig_nbformat": 4,
  "vscode": {
   "interpreter": {
    "hash": "21e9b7f71c1ca044d6177aedcd0d5bcb1eb838949e61e7399a50bbef4930e30f"
   }
  }
 },
 "nbformat": 4,
 "nbformat_minor": 2
}

{
 "cells": [
  {
   "cell_type": "code",
   "execution_count": 1,
   "metadata": {},
   "outputs": [],
   "source": [
    "import torch as tn\n",
    "import torchtt as tntt\n",
    "import TTCME\n",
    "import matplotlib.pyplot as plt \n",
    "import datetime\n",
    "import numpy as np\n",
    "import scipy.integrate\n",
    "import tikzplotlib\n",
    "\n",
    "tn.set_default_tensor_type(tn.DoubleTensor)\n",
    "qtt = False"
   ]
  },
  {
   "cell_type": "code",
   "execution_count": 2,
   "metadata": {},
   "outputs": [
    {
     "name": "stdout",
     "output_type": "stream",
     "text": [
      "Storage generator      2.326528  MB\n",
      "Storage generator QTT  0.037728  MB\n",
      "Rank generator         [1, 5, 6, 3, 1]\n",
      "Rank generator QTT     [1, 4, 5, 5, 5, 5, 5, 5, 9, 9, 9, 9, 9, 6, 11, 11, 11, 11, 7, 3, 4, 4, 4, 4, 4, 1]\n"
     ]
    }
   ],
   "source": [
    "r1 = TTCME.ChemicalReaction(['S','E','I','R'],'S+I->E+I', 0.1)\n",
    "r2 = TTCME.ChemicalReaction(['S','E','I','R'],'E->I',     0.5)\n",
    "r3 = TTCME.ChemicalReaction(['S','E','I','R'],'I->S',     1.0)\n",
    "r4 = TTCME.ChemicalReaction(['S','E','I','R'],'S->',      0.01)\n",
    "r5 = TTCME.ChemicalReaction(['S','E','I','R'],'E->',      0.01)\n",
    "r6 = TTCME.ChemicalReaction(['S','E','I','R'],'I->R',     0.01)\n",
    "r7 = TTCME.ChemicalReaction(['S','E','I','R'],'->S',      0.4)\n",
    "\n",
    "mdl = TTCME.ReactionSystem(['S','E','I','R'],[r1, r2 ,r3, r4, r5 ,r6, r7])\n",
    "N = [128,64,64,64]\n",
    "\n",
    "Att = mdl.generatorTT(N)\n",
    "Aqtt = Att.to_qtt().round(1e-13)\n",
    "print('Storage generator     ', tntt.numel(Att)*8/1e6,' MB')\n",
    "print('Storage generator QTT ', tntt.numel(Aqtt)*8/1e6,' MB')\n",
    "print('Rank generator        ', Att.R)\n",
    "print('Rank generator QTT    ', Aqtt.R)\n"
   ]
  },
  {
   "cell_type": "code",
   "execution_count": 3,
   "metadata": {},
   "outputs": [],
   "source": [
    "mu0 = [50,4,0,0]\n",
    "sigma = 1\n",
    "p0 = TTCME.pdf.SingularPMF(N,mu0).dofs\n",
    "p0 = p0 / p0.sum()"
   ]
  },
  {
   "cell_type": "code",
   "execution_count": 4,
   "metadata": {},
   "outputs": [],
   "source": [
    "qtt = False\n",
    "fwd_int = TTCME.TimeIntegrator.TTInt(Att if not qtt else Aqtt, epsilon=1e-5, N_max = 9, dt_max=1, method='cheby')\n",
    "\n",
    "Nt = 4\n",
    "Tend = 8"
   ]
  },
  {
   "cell_type": "code",
   "execution_count": null,
   "metadata": {},
   "outputs": [
    {
     "name": "stdout",
     "output_type": "stream",
     "text": [
      "The tensor at the subinterval 1 has the structure:\n",
      "TT with sizes and ranks:\n",
      "N = [128, 64, 64, 64, 9]\n",
      "R = [1, 18, 37, 11, 8, 1]\n",
      "\n",
      "Device: cpu, dtype: torch.float64\n",
      "#entries 76680 compression 0.00025391578674316406\n",
      "\n",
      "The tensor at the subinterval 2 has the structure:\n",
      "TT with sizes and ranks:\n",
      "N = [128, 64, 64, 64, 9]\n",
      "R = [1, 32, 58, 12, 7, 1]\n",
      "\n",
      "Device: cpu, dtype: torch.float64\n",
      "#entries 172863 compression 0.0005724132061004639\n",
      "\n"
     ]
    }
   ],
   "source": [
    "if qtt:\n",
    "    p = p0.clone()\n",
    "    time = 0.0\n",
    "    Ps = [p0.clone()]\n",
    "    p = p.to_qtt()\n",
    "    for i in range(Nt):\n",
    "        dt = Tend/Nt\n",
    "        tme = datetime.datetime.now()\n",
    "        p = fwd_int.solve(p, dt, intervals = 4, qtt = True, verb=True, rounding = False) \n",
    "        tme = datetime.datetime.now() - tme\n",
    "        time += dt\n",
    "        Ps.append(tntt.reshape(p.clone(),N))\n",
    "        p = p.round(1e-10)\n",
    "        print('Time ', time, ', rank ',p.R,', solver time ', tme)\n",
    "    p = tntt.reshape(p,N)\n",
    "else:\n",
    "    p = p0.clone()\n",
    "    time = 0.0\n",
    "    Ps = [p0.clone()]\n",
    "\n",
    "    for i in range(Nt):\n",
    "        dt = Tend/Nt\n",
    "        tme = datetime.datetime.now()\n",
    "        p = fwd_int.solve(p, dt, intervals = 4, verb = True) \n",
    "        tme = datetime.datetime.now() - tme\n",
    "        time += dt\n",
    "        Ps.append(p.clone())\n",
    "        print('Time ', time, ', rank ',p.R,', solver time ', tme)"
   ]
  },
  {
   "cell_type": "code",
   "execution_count": null,
   "metadata": {},
   "outputs": [],
   "source": [
    "Gen = mdl.generator_sparse([128,64,64,64])"
   ]
  },
  {
   "cell_type": "code",
   "execution_count": null,
   "metadata": {},
   "outputs": [],
   "source": [
    "\n",
    "P0 = p0[:80,:64,:64,:64].numpy()\n",
    "P0 = p0.numpy()\n",
    "# Gen = mdl.generator_sparse([80,64,64,64])\n",
    "Gen = mdl.generator_sparse([128,64,64,64])\n",
    "def func(t,y):\n",
    "    print(t)\n",
    "    return Gen.dot(y)\n",
    "\n",
    "# solve CME\n",
    "\n",
    "tme_ode45 = datetime.datetime.now()\n",
    "# res = scipy.integrate.solve_ivp(func,[0,time],P0.flatten(),t_eval=[0,time])\n",
    "res = scipy.integrate.solve_ivp(func,[0,time],P0.flatten(),t_eval=[0,time],max_step=dt/500)\n",
    "Pt = res.y.reshape([128,64,64,64]+[-1])\n",
    "tme_ode45 = datetime.datetime.now() - tme_ode45\n",
    "\n",
    "print('Time ODEINT ',tme_ode45)\n",
    "P_ref = Pt[:,:,:,:,-1]"
   ]
  },
  {
   "cell_type": "code",
   "execution_count": null,
   "metadata": {},
   "outputs": [],
   "source": [
    "Pend = p[:80,:64,:64,:64].numpy()\n",
    "P_ref = P_ref[:80,:64,:64,:64]\n",
    "\n",
    "plt.figure()\n",
    "plt.imshow(Pend.sum(2).sum(2).transpose(),origin='lower',cmap='gray_r')\n",
    "plt.colorbar()\n",
    "plt.xlabel(r'$x_1$')\n",
    "plt.ylabel(r'$x_2$')\n",
    "\n",
    "plt.figure()\n",
    "plt.imshow(np.abs(Pend-P_ref).sum(2).sum(2).transpose(),origin='lower',cmap='gray_r')\n",
    "plt.colorbar()\n",
    "plt.xlabel(r'$x_1$')\n",
    "plt.ylabel(r'$x_2$')\n",
    "\n",
    "plt.figure()\n",
    "plt.imshow(Pend.sum(0).sum(2).transpose(),origin='lower',cmap='gray_r')\n",
    "plt.colorbar()\n",
    "plt.xlabel(r'$x_2$')\n",
    "plt.ylabel(r'$x_3$')\n",
    "\n",
    "plt.figure()\n",
    "plt.imshow(np.abs(Pend-P_ref).sum(0).sum(2).transpose(),origin='lower',cmap='gray_r')\n",
    "plt.colorbar()\n",
    "plt.xlabel(r'$x_2$')\n",
    "plt.ylabel(r'$x_3$')\n",
    "\n",
    "plt.figure()\n",
    "plt.imshow(Pend.sum(0).sum(0).transpose(),origin='lower',cmap='gray_r')\n",
    "plt.colorbar()\n",
    "plt.xlabel(r'$x_3$')\n",
    "plt.ylabel(r'$x_4$')\n",
    "\n",
    "plt.figure()\n",
    "plt.imshow(np.abs(Pend-P_ref).sum(0).sum(0).transpose(),origin='lower',cmap='gray_r')\n",
    "plt.colorbar()\n",
    "plt.xlabel(r'$x_3$')\n",
    "plt.ylabel(r'$x_4$')\n",
    "\n",
    "plt.figure()\n",
    "plt.imshow(Pend.sum(1).sum(1).transpose(),origin='lower',cmap='gray_r')\n",
    "plt.colorbar()\n",
    "plt.xlabel(r'$x_1$')\n",
    "plt.ylabel(r'$x_4$')\n",
    "\n",
    "plt.figure()\n",
    "plt.imshow(np.abs(Pend-P_ref).sum(1).sum(1).transpose(),origin='lower',cmap='gray_r')\n",
    "plt.colorbar()\n",
    "plt.xlabel(r'$x_1$')\n",
    "plt.ylabel(r'$x_4$')\n",
    "\n",
    "plt.figure()\n",
    "plt.imshow(Ps[0].numpy().sum(0).sum(2).transpose(),origin='lower',cmap='gray_r')\n",
    "plt.colorbar()\n",
    "plt.xlabel(r'$x_2$')\n",
    "plt.ylabel(r'$x_3$')\n",
    "\n",
    "plt.figure()\n",
    "plt.imshow(Ps[1].numpy().sum(0).sum(2).transpose(),origin='lower',cmap='gray_r')\n",
    "plt.colorbar()\n",
    "plt.xlabel(r'$x_2$')\n",
    "plt.ylabel(r'$x_3$')\n",
    "\n",
    "plt.figure()\n",
    "plt.imshow(Ps[2].numpy().sum(0).sum(2).transpose(),origin='lower',cmap='gray_r')\n",
    "plt.colorbar()\n",
    "plt.xlabel(r'$x_2$')\n",
    "plt.ylabel(r'$x_3$')\n",
    "\n",
    "plt.figure()\n",
    "plt.imshow(Ps[3].numpy().sum(0).sum(2).transpose(),origin='lower',cmap='gray_r')\n",
    "plt.colorbar()\n",
    "plt.xlabel(r'$x_2$')\n",
    "plt.ylabel(r'$x_3$')"
   ]
  },
  {
   "cell_type": "code",
   "execution_count": null,
   "metadata": {},
   "outputs": [],
   "source": [
    "plt.figure()\n",
    "plt.imshow(Ps[0].numpy().sum(0).sum(2).transpose(),origin='lower',cmap='gray_r')\n",
    "plt.colorbar()\n",
    "plt.xlabel(r'$x_2$')\n",
    "plt.ylabel(r'$x_3$')\n",
    "tikzplotlib.save('EI_marginal_0.tex')\n",
    "\n",
    "plt.figure()\n",
    "plt.imshow(Ps[1].numpy().sum(0).sum(2).transpose(),origin='lower',cmap='gray_r')\n",
    "plt.colorbar()\n",
    "plt.xlabel(r'$x_2$')\n",
    "plt.ylabel(r'$x_3$')\n",
    "tikzplotlib.save('EI_marginal_2.tex')\n",
    "\n",
    "plt.figure()\n",
    "plt.imshow(Ps[2].numpy().sum(0).sum(2).transpose(),origin='lower',cmap='gray_r')\n",
    "plt.colorbar()\n",
    "plt.xlabel(r'$x_2$')\n",
    "plt.ylabel(r'$x_3$')\n",
    "tikzplotlib.save('EI_marginal_4.tex')\n",
    "\n",
    "plt.figure()\n",
    "plt.imshow(Ps[3].numpy().sum(0).sum(2).transpose(),origin='lower',cmap='gray_r')\n",
    "plt.colorbar()\n",
    "plt.xlabel(r'$x_2$')\n",
    "plt.ylabel(r'$x_3$')\n",
    "tikzplotlib.save('EI_marginal_6.tex')\n",
    "\n",
    "plt.figure()\n",
    "plt.imshow(Pend.sum(0).sum(2).transpose(),origin='lower',cmap='gray_r')\n",
    "plt.colorbar()\n",
    "plt.xlabel(r'$x_2$')\n",
    "plt.ylabel(r'$x_3$')\n",
    "tikzplotlib.save('EI_marginal_8.tex')\n",
    "\n",
    "plt.figure()\n",
    "plt.imshow(np.abs(Pend-P_ref).sum(0).sum(2).transpose(),origin='lower',cmap='gray_r')\n",
    "plt.colorbar()\n",
    "plt.xlabel(r'$x_2$')\n",
    "plt.ylabel(r'$x_3$')\n",
    "tikzplotlib.save('EI_marginal_err.tex')"
   ]
  },
  {
   "cell_type": "code",
   "execution_count": null,
   "metadata": {},
   "outputs": [],
   "source": [
    "Gen"
   ]
  }
 ],
 "metadata": {
  "interpreter": {
   "hash": "df6fc3a9b7a9c6f4b0308ab6eb361a4cabbf6b5db181383d07014ff4304e5cb3"
  },
  "kernelspec": {
   "display_name": "Pytorch",
   "language": "python",
   "name": "python3"
  },
  "language_info": {
   "codemirror_mode": {
    "name": "ipython",
    "version": 3
   },
   "file_extension": ".py",
   "mimetype": "text/x-python",
   "name": "python",
   "nbconvert_exporter": "python",
   "pygments_lexer": "ipython3",
   "version": "3.9.7"
  },
  "vscode": {
   "interpreter": {
    "hash": "df6fc3a9b7a9c6f4b0308ab6eb361a4cabbf6b5db181383d07014ff4304e5cb3"
   }
  }
 },
 "nbformat": 4,
 "nbformat_minor": 4
}

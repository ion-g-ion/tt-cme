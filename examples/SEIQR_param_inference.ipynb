{
 "cells": [
  {
   "cell_type": "markdown",
   "metadata": {},
   "source": [
    "# Parameter inference for the SEIQR model.\n",
    "\n",
    "This model contains 5 species (Susceptible, Exposed, Infected, Quarantined and Recovered)."
   ]
  },
  {
   "cell_type": "code",
   "execution_count": null,
   "metadata": {},
   "outputs": [],
   "source": [
    "import torch as tn\n",
    "import torchtt as tntt\n",
    "import TTCME\n",
    "import matplotlib.pyplot as plt \n",
    "import datetime\n",
    "import numpy as np\n",
    "import pickle \n",
    "\n",
    "tn.set_default_tensor_type(tn.DoubleTensor)\n",
    "qtt = True"
   ]
  },
  {
   "cell_type": "markdown",
   "metadata": {},
   "source": [
    "Define the model. The 4 reaction coefficients are the parameters."
   ]
  },
  {
   "cell_type": "code",
   "execution_count": null,
   "metadata": {},
   "outputs": [],
   "source": [
    "rates = np.array([0.04,0.4,0.4,0.004,0.12,0.8765,0.01,0.01,0.01])\n",
    "\n",
    "r1m = TTCME.ChemicalReaction(['S','E','I','Q','R'],'S+I->E+I', 'c1', params = ['c1'])\n",
    "r2m = TTCME.ChemicalReaction(['S','E','I','Q','R'],'E->I', 'c2', params = ['c2'])\n",
    "r3m = TTCME.ChemicalReaction(['S','E','I','Q','R'],'I->Q', 'c3', params = ['c3'])\n",
    "r4m = TTCME.ChemicalReaction(['S','E','I','Q','R'],'I->', 'c4', params = ['c4'])\n",
    "r5m = TTCME.ChemicalReaction(['S','E','I','Q','R'],'I->R', rates[4], params = [])\n",
    "r6m = TTCME.ChemicalReaction(['S','E','I','Q','R'],'Q->R', rates[5], params = [])\n",
    "r7m = TTCME.ChemicalReaction(['S','E','I','Q','R'],'I->S', rates[6], params = [])\n",
    "r8m = TTCME.ChemicalReaction(['S','E','I','Q','R'],'Q->S', rates[7], params = [])\n",
    "r9m = TTCME.ChemicalReaction(['S','E','I','Q','R'],'->S',  rates[8], params = [])\n",
    "\n",
    "r1 = TTCME.ChemicalReaction(['S','E','I','Q','R'],'S+I->E+I', rates[0], params = [])\n",
    "r2 = TTCME.ChemicalReaction(['S','E','I','Q','R'],'E->I', rates[1], params = [])\n",
    "r3 = TTCME.ChemicalReaction(['S','E','I','Q','R'],'I->Q', rates[2], params = [])\n",
    "r4 = TTCME.ChemicalReaction(['S','E','I','Q','R'],'I->',  rates[3], params = [])\n",
    "\n",
    "mdl = TTCME.ReactionSystem(['S','E','I','Q','R'],[r1m, r2m, r3m, r4m, r5m, r6m, r7m, r8m, r9m], params= ['c1','c2','c3','c4'])\n",
    "mdl_true = TTCME.ReactionSystem(['S','E','I','Q','R'],[r1, r2, r3, r4, r5m, r6m, r7m, r8m, r9m], params= [])\n",
    "\n",
    "IC = [90,0,4,0,0]\n",
    "N = [128,64,64,32,32] # state truncation"
   ]
  },
  {
   "cell_type": "markdown",
   "metadata": {},
   "source": [
    "Generate the measurements and the time grid discretization."
   ]
  },
  {
   "cell_type": "code",
   "execution_count": null,
   "metadata": {},
   "outputs": [],
   "source": [
    "No = 45\n",
    "Tend = 5\n",
    "time_observation = np.linspace(0, Tend, No+1)\n",
    "dT = time_observation[1]-time_observation[0]\n",
    "\n",
    "sigmas = [0.1,0.1,0.1,0.01,0.01]\n",
    "\n",
    "np.random.seed(13212)\n",
    "reaction_time,reaction_jumps,reaction_indices = mdl_true.ssa_single(IC, time_observation[-1])\n",
    "observations = mdl_true.jump_process_to_states(time_observation, reaction_time, reaction_jumps)\n",
    "observations_noise = TTCME.pdf.LogNormalObservation.add_noise(observations, sigmas)\n"
   ]
  },
  {
   "cell_type": "markdown",
   "metadata": {},
   "source": [
    "Plot the observations and the true trajectory."
   ]
  },
  {
   "cell_type": "code",
   "execution_count": null,
   "metadata": {},
   "outputs": [],
   "source": [
    "plt.figure()\n",
    "for i in range(5): plt.plot(np.repeat(reaction_time,2)[1:],np.repeat(reaction_jumps[:,i],2)[:-1])\n",
    "for i in range(5): plt.scatter(time_observation,observations_noise[:,i],c='k', marker='x',s=20)\n",
    "plt.legend(['S','E','I','Q','R'])\n",
    "plt.xlabel(r'$t$')\n",
    "plt.ylabel(r'#individuals')\n",
    "# import tikzplotlib\n",
    "# tikzplotlib.save('seiqr_trajectory.tex')"
   ]
  },
  {
   "cell_type": "markdown",
   "metadata": {},
   "source": [
    "Define the basis of the parameter space."
   ]
  },
  {
   "cell_type": "code",
   "execution_count": null,
   "metadata": {},
   "outputs": [],
   "source": [
    "Nl = 64\n",
    "mult = 5\n",
    "param_range = [[0,rc*mult] for rc in rates[:4]]\n",
    "basis_param = [TTCME.basis.BSplineBasis(Nl,[p[0],p[1]],deg = 2) for p in param_range]"
   ]
  },
  {
   "cell_type": "markdown",
   "metadata": {},
   "source": [
    "Define the prior distribution (independent gamma)."
   ]
  },
  {
   "cell_type": "code",
   "execution_count": null,
   "metadata": {},
   "outputs": [],
   "source": [
    "mu = rates[:4]*np.array([1.5,1.5,1.5,1.0])\n",
    "var = rates[:4] * np.array([0.025, 0.1, 0.25, 0.0001])\n",
    "alpha_prior = mu**2/var\n",
    "beta_prior = mu/var\n",
    "prior = TTCME.GammaPDF(alpha_prior, beta_prior, basis_param, ['c1','c2','c3','c4'])\n"
   ]
  },
  {
   "cell_type": "markdown",
   "metadata": {},
   "source": [
    "Define the initial condition and the joint PDF."
   ]
  },
  {
   "cell_type": "code",
   "execution_count": null,
   "metadata": {},
   "outputs": [],
   "source": [
    "p_ic = TTCME.pdf.SingularPMF(N,IC,['S','E', 'I', 'Q', 'R'])\n",
    "p0 = p_ic ** prior\n",
    "p0.normalize()\n",
    "\n",
    "p = p0.dofs.clone()\n",
    "\n",
    "print(p0)"
   ]
  },
  {
   "cell_type": "markdown",
   "metadata": {},
   "source": [
    "Instantiate the observation operator."
   ]
  },
  {
   "cell_type": "code",
   "execution_count": null,
   "metadata": {},
   "outputs": [],
   "source": [
    "obs_operator = TTCME.pdf.LogNormalObservation(N, sigmas)"
   ]
  },
  {
   "cell_type": "markdown",
   "metadata": {},
   "source": [
    "Compute the CME operator for the parameter dependent case."
   ]
  },
  {
   "cell_type": "code",
   "execution_count": null,
   "metadata": {},
   "outputs": [],
   "source": [
    "Stt,Mtt,Mtt_inv = mdl.generator_tt_galerkin(N, basis_param)\n",
    "Att = Mtt_inv @ Stt"
   ]
  },
  {
   "cell_type": "markdown",
   "metadata": {},
   "source": [
    "Instantiate the TT time-domain solver. If the `qtt` flag is `True`, the result will be performed in the QTT format."
   ]
  },
  {
   "cell_type": "code",
   "execution_count": null,
   "metadata": {},
   "outputs": [],
   "source": [
    "if qtt:\n",
    "    A_qtt = Att.to_qtt()\n",
    "    fwd_int = TTCME.TimeIntegrator.TTInt(A_qtt, epsilon = 1e-5, N_max = 8, dt_max = 1.0,method='cheby')\n",
    "    Nbs = 1\n",
    "    p = p.to_qtt()\n",
    "else:\n",
    "    fwd_int = TTCME.TimeIntegrator.TTInt(Att, epsilon = 1e-5, N_max = 64, dt_max = 1.0,method='crank–nicolson')\n",
    "    Nbs = 1"
   ]
  },
  {
   "cell_type": "markdown",
   "metadata": {},
   "source": [
    "Perform the perameter inference."
   ]
  },
  {
   "cell_type": "code",
   "execution_count": null,
   "metadata": {},
   "outputs": [],
   "source": [
    "posterior_list  =[]\n",
    "joint_pdf = p0.copy()\n",
    "for i in range(1,No):\n",
    "    \n",
    "    y = observations_noise[i,:]\n",
    "\n",
    "    \n",
    "    po = obs_operator.likelihood(y) \n",
    "    #po = po / po.sum()\n",
    "    \n",
    "    po = po ** tntt.ones([Nl]*4)\n",
    "\n",
    "    if qtt: po = po.to_qtt()\n",
    "    \n",
    "    print('new observation ',i,'/',No,' at time ',time_observation[i],' ',y)\n",
    "    \n",
    "    tme = datetime.datetime.now()\n",
    "    p = fwd_int.solve(p, dT, intervals = Nbs,qtt = qtt,verb = False, rounding=True, device = None)\n",
    "    tme = datetime.datetime.now() - tme\n",
    "    \n",
    "    \n",
    "    print('\\tmax rank ',max(p.R))\n",
    "    p_pred = p\n",
    "    p_post = po * p_pred\n",
    "    p_post = p_post.round(1e-10)\n",
    "    print('\\tmax rank (after observation) ',max(p_post.R))\n",
    "    \n",
    "    if qtt:\n",
    "        joint_pdf.dofs = tntt.reshape(p_post,joint_pdf.dofs.N)\n",
    "        Z = joint_pdf.Z\n",
    "        joint_pdf.normalize()\n",
    "        p = p_post / Z\n",
    "    else:\n",
    "        joint_pdf.dofs = p_post.clone()\n",
    "        joint_pdf.normalize()\n",
    "        p = joint_pdf.dofs.clone()\n",
    "\n",
    "    \n",
    "    posterior_pdf = joint_pdf.marginal([0,1,2,3,4])\n",
    "    posterior_pdf.round(1e-10)\n",
    "    posterior_list.append(posterior_pdf.copy())\n",
    "\n",
    "\n",
    "\n",
    "    E = posterior_pdf.expected_value()\n",
    "    \n",
    "    print('\\tExpected value computed posterior ' ,E)\n",
    "    # print('\\tVariance computed posterior       ' ,V)\n",
    "    print('\\tposterior size ',tntt.numel(p)*8 / 1000000,' MB')\n",
    "    print('\\telapsed ',tme)"
   ]
  },
  {
   "cell_type": "markdown",
   "metadata": {},
   "source": [
    "Calculate the posterior mean and covariance and display the marginals $ p(\\theta_1) , ..., p(\\theta_4)$."
   ]
  },
  {
   "cell_type": "code",
   "execution_count": null,
   "metadata": {},
   "outputs": [],
   "source": [
    "posterior_pdf.normalize()\n",
    "\n",
    "E = posterior_pdf.expected_value()\n",
    "C = posterior_pdf.covariance_matrix()\n",
    "V = np.diag(C)\n",
    "\n",
    "print()\n",
    "print('Exact rates:                      ',rates)\n",
    "print('')\n",
    "print('Expected value computed posterior ' ,E)\n",
    "print('Variance computed posterior       ' ,V)\n",
    "# print('Computed modes:                   ',theta_mode)\n",
    "print('')\n",
    "print('Expected value prior              ' ,alpha_prior/beta_prior)\n",
    "print('Variance computed prior           ' ,alpha_prior/beta_prior/beta_prior)\n",
    "print('')\n",
    "\n",
    "\n",
    "post_1 = posterior_pdf.marginal([1,2,3])\n",
    "post_2 = posterior_pdf.marginal([0,2,3])\n",
    "post_3 = posterior_pdf.marginal([0,1,3])\n",
    "post_4 = posterior_pdf.marginal([0,1,2])\n",
    "\n",
    "\n",
    "for i in range(4):\n",
    "    pr = prior.marginal([j for j in range(4) if i!=j])\n",
    "    po = posterior_pdf.marginal([j for j in range(4) if i!=j])\n",
    "    x = np.linspace(param_range[i][0],param_range[i][1],1000)\n",
    "    \n",
    "    \n",
    "    plt.figure()\n",
    "    plt.plot(x, po[x].numpy())\n",
    "    plt.axvline(rates[i],c='r',linestyle=':')\n",
    "    plt.plot(x, pr[x].numpy())"
   ]
  },
  {
   "cell_type": "markdown",
   "metadata": {},
   "source": [
    "Plot the marginalzied posteriors $p(\\theta_i,\\theta_j),i,j=1,...,4$."
   ]
  },
  {
   "cell_type": "code",
   "execution_count": null,
   "metadata": {},
   "outputs": [],
   "source": [
    "plt.figure(figsize = [6,6])\n",
    "\n",
    "k = 0\n",
    "for i in range(4):\n",
    "    for j in range(4):\n",
    "        k += 1\n",
    "        if i==j:\n",
    "            plt.subplot(4, 4, k)\n",
    "            \n",
    "            theta = np.linspace(param_range[i][0],param_range[i][1],1000)\n",
    "            pr = prior.marginal([k for k in range(4) if i!=k])[theta].numpy()\n",
    "            po = posterior_pdf.marginal([k for k in range(4) if i!=k])[theta].numpy()\n",
    "           \n",
    "            plt.plot(theta,po/np.max(po)*np.max(theta))\n",
    "            plt.axvline(rates[i],c='r',linestyle=':')\n",
    "            plt.plot(theta,pr/np.max(po)*np.max(theta),'g:')\n",
    "            \n",
    "        else:\n",
    "            plt.subplot(4, 4, k)\n",
    "             \n",
    "            if j<i: \n",
    "                theta1 = np.linspace(param_range[j][0],param_range[j][1],127)\n",
    "                theta2 = np.linspace(param_range[i][0],param_range[i][1],128)\n",
    "                \n",
    "                T1, T2 = np.meshgrid(theta1, theta2)\n",
    "                po = posterior_pdf.marginal([k for k in range(4) if i!=k and j!=k])\n",
    "                po.normalize()\n",
    "                po = po[theta1,theta2].numpy().T\n",
    "                plt.contourf(T1, T2, po, cmap='gray_r', levels =12)\n",
    "                plt.axvline(rates[j],c='r',linestyle=':',linewidth=1)\n",
    "                plt.axhline(rates[i],c='r',linestyle=':',linewidth=1)\n",
    "            else: \n",
    "                theta1 = np.linspace(param_range[i][0],param_range[i][1],127)\n",
    "                theta2 = np.linspace(param_range[j][0],param_range[j][1],128)\n",
    "                \n",
    "                T1, T2 = np.meshgrid(theta1, theta2)\n",
    "                po = posterior_pdf.marginal([k for k in range(4) if i!=k and j!=k])\n",
    "                po.normalize()\n",
    "                po = po[theta1,theta2].numpy().T\n",
    "                plt.contourf(T2, T1, po, cmap='gray_r', levels =32)\n",
    "                plt.axvline(rates[j],c='r',linestyle=':',linewidth=1)\n",
    "                plt.axhline(rates[i],c='r',linestyle=':',linewidth=1)\n",
    "        \n",
    "        if i==3: plt.xlabel(r'$\\theta_'+str(j+1)+'$')\n",
    "        if j==0: plt.ylabel(r'$\\theta_'+str(i+1)+'$')\n",
    "        \n",
    "        if j>0: plt.yticks([])\n",
    "        if i<3: plt.xticks([])\n",
    "\n",
    "plt.savefig('seiqr_post.eps')"
   ]
  }
 ],
 "metadata": {
  "kernelspec": {
   "display_name": "Python 3.9.7 ('pytorch')",
   "language": "python",
   "name": "python3"
  },
  "language_info": {
   "codemirror_mode": {
    "name": "ipython",
    "version": 3
   },
   "file_extension": ".py",
   "mimetype": "text/x-python",
   "name": "python",
   "nbconvert_exporter": "python",
   "pygments_lexer": "ipython3",
   "version": "3.9.7"
  },
  "orig_nbformat": 4,
  "vscode": {
   "interpreter": {
    "hash": "df6fc3a9b7a9c6f4b0308ab6eb361a4cabbf6b5db181383d07014ff4304e5cb3"
   }
  }
 },
 "nbformat": 4,
 "nbformat_minor": 2
}

{
 "cells": [
  {
   "cell_type": "code",
   "execution_count": 1,
   "metadata": {},
   "outputs": [],
   "source": [
    "import torch as tn\n",
    "import torchtt as tntt\n",
    "import TTCME\n",
    "import matplotlib.pyplot as plt \n",
    "import datetime\n",
    "import numpy as np\n",
    "import pickle \n",
    "\n",
    "tn.set_default_tensor_type(tn.DoubleTensor)\n",
    "qtt = True"
   ]
  },
  {
   "cell_type": "code",
   "execution_count": 2,
   "metadata": {},
   "outputs": [],
   "source": [
    "r1m = TTCME.ChemicalReaction(['mRNA','protein'],'mRNA->mRNA+protein', 'c1', params = ['c1'])\n",
    "r2m = TTCME.ChemicalReaction(['mRNA','protein'],'mRNA->', 'c2', params = ['c2'])\n",
    "r3m = TTCME.ChemicalReaction(['mRNA','protein'],'->mRNA', 'c3', params = ['c3'])\n",
    "r4m = TTCME.ChemicalReaction(['mRNA','protein'],'protein->', 'c4', params = ['c4'])\n",
    "\n",
    "mdl = TTCME.ReactionSystem(['mRNA','protein'],[r1m, r2m, r3m, r4m], params= ['c1','c2','c3','c4'])\n",
    "\n",
    "rates = np.array([0.002,0.015,0.1,0.01])\n",
    "IC = [2,4]\n",
    "N = [64,64]"
   ]
  },
  {
   "cell_type": "code",
   "execution_count": 3,
   "metadata": {},
   "outputs": [],
   "source": [
    "with open(r\"simplegene_64_500k.pickle\", \"rb\") as input_file:\n",
    "    dct = pickle.load(input_file) \n",
    "\n",
    "No = dct['time_observation'].size\n",
    "time_observation = dct['time_observation']\n",
    "reaction_time = dct['reaction_time']\n",
    "reaction_jumps = dct['reaction_jumps']\n",
    "reaction_indices = dct['reaction_indices']\n",
    "observations = dct['observations']\n",
    "observations_noise = dct['observations_noise']\n",
    "dT = time_observation[1]-time_observation[0]\n",
    "sigma = dct['sigma']\n",
    "sample_posterior_mcmc = dct['sample']"
   ]
  },
  {
   "cell_type": "code",
   "execution_count": 4,
   "metadata": {},
   "outputs": [
    {
     "data": {
      "text/plain": [
       "<matplotlib.legend.Legend at 0x7f212c7129d0>"
      ]
     },
     "execution_count": 4,
     "metadata": {},
     "output_type": "execute_result"
    },
    {
     "data": {
      "image/png": "[encoded data removed]",
      "text/plain": [
       "<Figure size 432x288 with 1 Axes>"
      ]
     },
     "metadata": {
      "needs_background": "light"
     },
     "output_type": "display_data"
    }
   ],
   "source": [
    "plt.figure()\n",
    "plt.plot(np.repeat(reaction_time,2)[1:],np.repeat(reaction_jumps[:,0],2)[:-1],'b')\n",
    "plt.plot(np.repeat(reaction_time,2)[1:],np.repeat(reaction_jumps[:,1],2)[:-1],'r') \n",
    "plt.scatter(time_observation,observations_noise[:,0],c='b',s=20)\n",
    "plt.scatter(time_observation,observations_noise[:,1],c='r',marker='x',s=20)\n",
    "plt.xlabel('t [s]')\n",
    "plt.ylabel('#individuals')\n",
    "plt.legend(['mRNA','Protein','mRNA observation','Protein observation'])"
   ]
  },
  {
   "cell_type": "code",
   "execution_count": 5,
   "metadata": {},
   "outputs": [],
   "source": [
    "Nl = 64\n",
    "mult = 6\n",
    "param_range = [[0,rc*mult] for rc in rates]\n",
    "basis_param = [TTCME.basis.BSplineBasis(Nl,[p[0],p[1]],deg = 2) for p in param_range]"
   ]
  },
  {
   "cell_type": "code",
   "execution_count": 6,
   "metadata": {},
   "outputs": [],
   "source": [
    "mu = rates\n",
    "var = rates / np.array([1000,350,25,600])\n",
    "alpha_prior = mu**2/var\n",
    "beta_prior = mu/var\n",
    "prior = TTCME.GammaPDF(alpha_prior, beta_prior, basis_param, ['c1','c2','c3','c4'])"
   ]
  },
  {
   "cell_type": "code",
   "execution_count": 7,
   "metadata": {},
   "outputs": [
    {
     "name": "stdout",
     "output_type": "stream",
     "text": [
      "Probability density function:\n",
      "p(mRNA,protein)\n",
      "\n",
      "Basis:\n",
      "<TTCME.basis.DiracDeltaBase object at 0x7f212d703c40>\n",
      "<TTCME.basis.DiracDeltaBase object at 0x7f212c73ea30>\n",
      "<TTCME.basis.BSplineBasis object at 0x7f212c6d0ca0>\n",
      "<TTCME.basis.BSplineBasis object at 0x7f212c6df0d0>\n",
      "<TTCME.basis.BSplineBasis object at 0x7f212c6df070>\n",
      "<TTCME.basis.BSplineBasis object at 0x7f212c67b7f0>\n",
      "\n",
      "DoF:\n",
      "TT with sizes and ranks:\n",
      "N = [64, 64, 64, 64, 64, 64]\n",
      "R = [1, 1, 1, 1, 1, 1, 1]\n",
      "\n",
      "Device: cpu, dtype: torch.float64\n",
      "#entries 384 compression 5.587935447692871e-09\n",
      "\n"
     ]
    }
   ],
   "source": [
    "p = TTCME.pdf.SingularPMF(N,IC,['mRNA','protein'])\n",
    "p0 = p**TTCME.pdf.UniformPDF(basis_param)\n",
    "print(p0)"
   ]
  },
  {
   "cell_type": "code",
   "execution_count": 8,
   "metadata": {},
   "outputs": [],
   "source": [
    "Att = mdl.generator_tt_galerkin(N, basis_param)"
   ]
  }
 ],
 "metadata": {
  "kernelspec": {
   "display_name": "Python 3.9.7 ('pytorch')",
   "language": "python",
   "name": "python3"
  },
  "language_info": {
   "codemirror_mode": {
    "name": "ipython",
    "version": 3
   },
   "file_extension": ".py",
   "mimetype": "text/x-python",
   "name": "python",
   "nbconvert_exporter": "python",
   "pygments_lexer": "ipython3",
   "version": "3.9.7"
  },
  "orig_nbformat": 4,
  "vscode": {
   "interpreter": {
    "hash": "df6fc3a9b7a9c6f4b0308ab6eb361a4cabbf6b5db181383d07014ff4304e5cb3"
   }
  }
 },
 "nbformat": 4,
 "nbformat_minor": 2
}
